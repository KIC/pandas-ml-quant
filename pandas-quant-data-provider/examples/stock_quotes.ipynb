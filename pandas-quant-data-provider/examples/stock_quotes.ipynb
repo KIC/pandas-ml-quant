{
 "cells": [
  {
   "cell_type": "markdown",
   "source": [
    "First we need to import the module"
   ],
   "metadata": {
    "collapsed": false
   }
  },
  {
   "cell_type": "code",
   "execution_count": 10,
   "metadata": {
    "collapsed": true
   },
   "outputs": [],
   "source": [
    "import pandas_quant_data_provider as qd"
   ]
  },
  {
   "cell_type": "markdown",
   "source": [
    "There are a lot of different ways to fetch data as well as organizing the resulting\n",
    "`DataFrame`.\n"
   ],
   "metadata": {
    "collapsed": false,
    "pycharm": {
     "name": "#%% md\n"
    }
   }
  },
  {
   "cell_type": "markdown",
   "source": [
    "### Control which provider plugin is used\n",
    "In order to find data in a resource like a web API a plugin system is needed. By\n",
    "default the loader loops through all the plugins loaded and looks if a symbol is\n",
    "provided by a cetrain plugin. If more then one plugin can provide data for a symbol\n",
    "a waring is raised and the first provider in the list is used."
   ],
   "metadata": {
    "collapsed": false
   }
  },
  {
   "cell_type": "code",
   "execution_count": 11,
   "outputs": [
    {
     "data": {
      "text/plain": "              Open    High     Low   Close       Volume  Dividends  \\\nDate                                                                 \n2021-01-15  128.78  130.22  127.00  127.14  111598500.0        0.0   \n2021-01-19  127.78  128.71  126.94  127.83   90757300.0        0.0   \n2021-01-20  128.66  132.49  128.55  132.03  104319500.0        0.0   \n2021-01-21  133.80  139.67  133.59  136.87  120529500.0        0.0   \n2021-01-22  136.28  139.85  135.02  139.07  114459360.0        0.0   \n\n            Stock Splits  \nDate                      \n2021-01-15           0.0  \n2021-01-19           0.0  \n2021-01-20           0.0  \n2021-01-21           0.0  \n2021-01-22           0.0  ",
      "text/html": "<div>\n<style scoped>\n    .dataframe tbody tr th:only-of-type {\n        vertical-align: middle;\n    }\n\n    .dataframe tbody tr th {\n        vertical-align: top;\n    }\n\n    .dataframe thead th {\n        text-align: right;\n    }\n</style>\n<table border=\"1\" class=\"dataframe\">\n  <thead>\n    <tr style=\"text-align: right;\">\n      <th></th>\n      <th>Open</th>\n      <th>High</th>\n      <th>Low</th>\n      <th>Close</th>\n      <th>Volume</th>\n      <th>Dividends</th>\n      <th>Stock Splits</th>\n    </tr>\n    <tr>\n      <th>Date</th>\n      <th></th>\n      <th></th>\n      <th></th>\n      <th></th>\n      <th></th>\n      <th></th>\n      <th></th>\n    </tr>\n  </thead>\n  <tbody>\n    <tr>\n      <th>2021-01-15</th>\n      <td>128.78</td>\n      <td>130.22</td>\n      <td>127.00</td>\n      <td>127.14</td>\n      <td>111598500.0</td>\n      <td>0.0</td>\n      <td>0.0</td>\n    </tr>\n    <tr>\n      <th>2021-01-19</th>\n      <td>127.78</td>\n      <td>128.71</td>\n      <td>126.94</td>\n      <td>127.83</td>\n      <td>90757300.0</td>\n      <td>0.0</td>\n      <td>0.0</td>\n    </tr>\n    <tr>\n      <th>2021-01-20</th>\n      <td>128.66</td>\n      <td>132.49</td>\n      <td>128.55</td>\n      <td>132.03</td>\n      <td>104319500.0</td>\n      <td>0.0</td>\n      <td>0.0</td>\n    </tr>\n    <tr>\n      <th>2021-01-21</th>\n      <td>133.80</td>\n      <td>139.67</td>\n      <td>133.59</td>\n      <td>136.87</td>\n      <td>120529500.0</td>\n      <td>0.0</td>\n      <td>0.0</td>\n    </tr>\n    <tr>\n      <th>2021-01-22</th>\n      <td>136.28</td>\n      <td>139.85</td>\n      <td>135.02</td>\n      <td>139.07</td>\n      <td>114459360.0</td>\n      <td>0.0</td>\n      <td>0.0</td>\n    </tr>\n  </tbody>\n</table>\n</div>"
     },
     "execution_count": 11,
     "metadata": {},
     "output_type": "execute_result"
    }
   ],
   "source": [
    "qd.fetch(\"AAPL\").tail()"
   ],
   "metadata": {
    "collapsed": false,
    "pycharm": {
     "name": "#%%\n"
    }
   }
  },
  {
   "cell_type": "markdown",
   "source": [
    "In case you want more control over the used provider a `force_provider` parameter\n",
    "could be passed. Valid arguments are a string or a list of strings where the list\n",
    "determines a concrete priority over plugins which will be looped until data is\n",
    "receivable.\n",
    "\n",
    "qd.fetch(\"AAPL\").tail()"
   ],
   "metadata": {
    "collapsed": false
   }
  },
  {
   "cell_type": "markdown",
   "source": [
    "Under some circumstances i.e. for arbitrage you actualy want the same symbols data\n",
    "but from different providers. In this case you have to assign the plugin to the symbol"
   ],
   "metadata": {
    "collapsed": false
   }
  },
  {
   "cell_type": "code",
   "execution_count": 12,
   "outputs": [],
   "source": [
    "# TODO ...\n",
    "# qd.fetch(\"AAPL|yahoo\", \"AAPL|investing\").tail()\n"
   ],
   "metadata": {
    "collapsed": false,
    "pycharm": {
     "name": "#%%\n"
    }
   }
  },
  {
   "cell_type": "markdown",
   "source": [
    "### Control how the DataFrame is organized\n",
    "The `load` function accepts symbols as list or varargs. Once you pass more then one\n",
    "symbol a `MultiIndex` column will be returned with each symbol as top level column.\n",
    "Further more once can pass a nested list of symbols (like a 2D array). The data will\n",
    "then be organized with `MultiIndex` for rows and columns.\n",
    "\n",
    "NOTE For easy slicing `MultiIndex` columns the [pandas-ml-utils](https://github.com/KIC/pandas-ml-quant/tree/master/pandas-ml-utils)\n",
    "library can be handy."
   ],
   "metadata": {
    "collapsed": false,
    "pycharm": {
     "name": "#%% md\n"
    }
   }
  },
  {
   "cell_type": "code",
   "execution_count": 13,
   "outputs": [
    {
     "data": {
      "text/plain": "              AAPL                                                 \\\n              Open    High     Low   Close       Volume Dividends   \nDate                                                                \n2021-01-15  128.78  130.22  127.00  127.14  111598500.0       0.0   \n2021-01-19  127.78  128.71  126.94  127.83   90757300.0       0.0   \n2021-01-20  128.66  132.49  128.55  132.03  104319500.0       0.0   \n2021-01-21  133.80  139.67  133.59  136.87  120529500.0       0.0   \n2021-01-22  136.28  139.85  135.02  139.07  114459360.0       0.0   \n\n                           MSFT                                                \\\n           Stock Splits    Open    High     Low   Close      Volume Dividends   \nDate                                                                            \n2021-01-15          0.0  213.52  214.51  212.03  212.65  31746500.0       0.0   \n2021-01-19          0.0  213.75  216.98  212.63  216.44  30480900.0       0.0   \n2021-01-20          0.0  217.70  225.79  217.29  224.34  37777300.0       0.0   \n2021-01-21          0.0  224.70  226.30  222.42  224.97  30749600.0       0.0   \n2021-01-22          0.0  227.08  230.07  225.80  225.95  30172663.0       0.0   \n\n                         \n           Stock Splits  \nDate                     \n2021-01-15          0.0  \n2021-01-19          0.0  \n2021-01-20          0.0  \n2021-01-21          0.0  \n2021-01-22          0.0  ",
      "text/html": "<div>\n<style scoped>\n    .dataframe tbody tr th:only-of-type {\n        vertical-align: middle;\n    }\n\n    .dataframe tbody tr th {\n        vertical-align: top;\n    }\n\n    .dataframe thead tr th {\n        text-align: left;\n    }\n\n    .dataframe thead tr:last-of-type th {\n        text-align: right;\n    }\n</style>\n<table border=\"1\" class=\"dataframe\">\n  <thead>\n    <tr>\n      <th></th>\n      <th colspan=\"7\" halign=\"left\">AAPL</th>\n      <th colspan=\"7\" halign=\"left\">MSFT</th>\n    </tr>\n    <tr>\n      <th></th>\n      <th>Open</th>\n      <th>High</th>\n      <th>Low</th>\n      <th>Close</th>\n      <th>Volume</th>\n      <th>Dividends</th>\n      <th>Stock Splits</th>\n      <th>Open</th>\n      <th>High</th>\n      <th>Low</th>\n      <th>Close</th>\n      <th>Volume</th>\n      <th>Dividends</th>\n      <th>Stock Splits</th>\n    </tr>\n    <tr>\n      <th>Date</th>\n      <th></th>\n      <th></th>\n      <th></th>\n      <th></th>\n      <th></th>\n      <th></th>\n      <th></th>\n      <th></th>\n      <th></th>\n      <th></th>\n      <th></th>\n      <th></th>\n      <th></th>\n      <th></th>\n    </tr>\n  </thead>\n  <tbody>\n    <tr>\n      <th>2021-01-15</th>\n      <td>128.78</td>\n      <td>130.22</td>\n      <td>127.00</td>\n      <td>127.14</td>\n      <td>111598500.0</td>\n      <td>0.0</td>\n      <td>0.0</td>\n      <td>213.52</td>\n      <td>214.51</td>\n      <td>212.03</td>\n      <td>212.65</td>\n      <td>31746500.0</td>\n      <td>0.0</td>\n      <td>0.0</td>\n    </tr>\n    <tr>\n      <th>2021-01-19</th>\n      <td>127.78</td>\n      <td>128.71</td>\n      <td>126.94</td>\n      <td>127.83</td>\n      <td>90757300.0</td>\n      <td>0.0</td>\n      <td>0.0</td>\n      <td>213.75</td>\n      <td>216.98</td>\n      <td>212.63</td>\n      <td>216.44</td>\n      <td>30480900.0</td>\n      <td>0.0</td>\n      <td>0.0</td>\n    </tr>\n    <tr>\n      <th>2021-01-20</th>\n      <td>128.66</td>\n      <td>132.49</td>\n      <td>128.55</td>\n      <td>132.03</td>\n      <td>104319500.0</td>\n      <td>0.0</td>\n      <td>0.0</td>\n      <td>217.70</td>\n      <td>225.79</td>\n      <td>217.29</td>\n      <td>224.34</td>\n      <td>37777300.0</td>\n      <td>0.0</td>\n      <td>0.0</td>\n    </tr>\n    <tr>\n      <th>2021-01-21</th>\n      <td>133.80</td>\n      <td>139.67</td>\n      <td>133.59</td>\n      <td>136.87</td>\n      <td>120529500.0</td>\n      <td>0.0</td>\n      <td>0.0</td>\n      <td>224.70</td>\n      <td>226.30</td>\n      <td>222.42</td>\n      <td>224.97</td>\n      <td>30749600.0</td>\n      <td>0.0</td>\n      <td>0.0</td>\n    </tr>\n    <tr>\n      <th>2021-01-22</th>\n      <td>136.28</td>\n      <td>139.85</td>\n      <td>135.02</td>\n      <td>139.07</td>\n      <td>114459360.0</td>\n      <td>0.0</td>\n      <td>0.0</td>\n      <td>227.08</td>\n      <td>230.07</td>\n      <td>225.80</td>\n      <td>225.95</td>\n      <td>30172663.0</td>\n      <td>0.0</td>\n      <td>0.0</td>\n    </tr>\n  </tbody>\n</table>\n</div>"
     },
     "execution_count": 13,
     "metadata": {},
     "output_type": "execute_result"
    }
   ],
   "source": [
    "qd.fetch(\"AAPL\", \"MSFT\").tail()\n",
    "# which is equivalent to\n",
    "# qd.load([\"AAPL\", \"MSFT\"]).tail()"
   ],
   "metadata": {
    "collapsed": false,
    "pycharm": {
     "name": "#%%\n"
    }
   }
  },
  {
   "cell_type": "code",
   "execution_count": 14,
   "outputs": [
    {
     "data": {
      "text/plain": "                          0                                              \\\n                       Open   High    Low  Close       Volume Dividends   \n          Date                                                            \nAAPL/MSFT 1986-03-13   0.09   0.09   0.09   0.09  115964800.0       0.0   \n          1986-03-14   0.09   0.09   0.09   0.09  384854400.0       0.0   \n          1986-03-17   0.09   0.09   0.09   0.09  118720000.0       0.0   \n          1986-03-18   0.09   0.10   0.09   0.09  249356800.0       0.0   \n          1986-03-19   0.09   0.10   0.09   0.09  189884800.0       0.0   \n...                     ...    ...    ...    ...          ...       ...   \nAL/DAT    2021-01-15  44.99  45.04  43.10  43.28     708600.0       0.0   \n          2021-01-19  43.66  44.48  43.35  44.13     532200.0       0.0   \n          2021-01-20  44.49  45.23  44.30  44.66    1125400.0       0.0   \n          2021-01-21  44.71  44.77  42.91  43.17     636500.0       0.0   \n          2021-01-22  42.56  43.04  41.71  42.50     769597.0       0.0   \n\n                                          1                                \\\n                     Stock Splits      Open      High       Low     Close   \n          Date                                                              \nAAPL/MSFT 1986-03-13          0.0      0.06      0.06      0.06      0.06   \n          1986-03-14          0.0      0.06      0.07      0.06      0.06   \n          1986-03-17          0.0      0.06      0.07      0.06      0.07   \n          1986-03-18          0.0      0.07      0.07      0.06      0.06   \n          1986-03-19          0.0      0.06      0.06      0.06      0.06   \n...                           ...       ...       ...       ...       ...   \nAL/DAT    2021-01-15          0.0  30000.00  30650.00  30000.00  30650.00   \n          2021-01-19          0.0  30000.00  30000.00  30000.00  30000.00   \n          2021-01-20          0.0  28100.00  29950.00  28100.00  29950.00   \n          2021-01-21          0.0  30000.00  30000.00  29900.00  29950.00   \n          2021-01-22          0.0  30000.00  30200.00  29900.00  29900.00   \n\n                                                           \n                            Volume Dividends Stock Splits  \n          Date                                             \nAAPL/MSFT 1986-03-13  1.031789e+09       0.0          0.0  \n          1986-03-14  3.081600e+08       0.0          0.0  \n          1986-03-17  1.331712e+08       0.0          0.0  \n          1986-03-18  6.776640e+07       0.0          0.0  \n          1986-03-19  4.789440e+07       0.0          0.0  \n...                            ...       ...          ...  \nAL/DAT    2021-01-15  2.000000e+02       0.0          0.0  \n          2021-01-19  5.000000e+01       0.0          0.0  \n          2021-01-20  4.000000e+01       0.0          0.0  \n          2021-01-21  5.000000e+01       0.0          0.0  \n          2021-01-22  1.400000e+02       0.0          0.0  \n\n[10095 rows x 14 columns]",
      "text/html": "<div>\n<style scoped>\n    .dataframe tbody tr th:only-of-type {\n        vertical-align: middle;\n    }\n\n    .dataframe tbody tr th {\n        vertical-align: top;\n    }\n\n    .dataframe thead tr th {\n        text-align: left;\n    }\n\n    .dataframe thead tr:last-of-type th {\n        text-align: right;\n    }\n</style>\n<table border=\"1\" class=\"dataframe\">\n  <thead>\n    <tr>\n      <th></th>\n      <th></th>\n      <th colspan=\"7\" halign=\"left\">0</th>\n      <th colspan=\"7\" halign=\"left\">1</th>\n    </tr>\n    <tr>\n      <th></th>\n      <th></th>\n      <th>Open</th>\n      <th>High</th>\n      <th>Low</th>\n      <th>Close</th>\n      <th>Volume</th>\n      <th>Dividends</th>\n      <th>Stock Splits</th>\n      <th>Open</th>\n      <th>High</th>\n      <th>Low</th>\n      <th>Close</th>\n      <th>Volume</th>\n      <th>Dividends</th>\n      <th>Stock Splits</th>\n    </tr>\n    <tr>\n      <th></th>\n      <th>Date</th>\n      <th></th>\n      <th></th>\n      <th></th>\n      <th></th>\n      <th></th>\n      <th></th>\n      <th></th>\n      <th></th>\n      <th></th>\n      <th></th>\n      <th></th>\n      <th></th>\n      <th></th>\n      <th></th>\n    </tr>\n  </thead>\n  <tbody>\n    <tr>\n      <th rowspan=\"5\" valign=\"top\">AAPL/MSFT</th>\n      <th>1986-03-13</th>\n      <td>0.09</td>\n      <td>0.09</td>\n      <td>0.09</td>\n      <td>0.09</td>\n      <td>115964800.0</td>\n      <td>0.0</td>\n      <td>0.0</td>\n      <td>0.06</td>\n      <td>0.06</td>\n      <td>0.06</td>\n      <td>0.06</td>\n      <td>1.031789e+09</td>\n      <td>0.0</td>\n      <td>0.0</td>\n    </tr>\n    <tr>\n      <th>1986-03-14</th>\n      <td>0.09</td>\n      <td>0.09</td>\n      <td>0.09</td>\n      <td>0.09</td>\n      <td>384854400.0</td>\n      <td>0.0</td>\n      <td>0.0</td>\n      <td>0.06</td>\n      <td>0.07</td>\n      <td>0.06</td>\n      <td>0.06</td>\n      <td>3.081600e+08</td>\n      <td>0.0</td>\n      <td>0.0</td>\n    </tr>\n    <tr>\n      <th>1986-03-17</th>\n      <td>0.09</td>\n      <td>0.09</td>\n      <td>0.09</td>\n      <td>0.09</td>\n      <td>118720000.0</td>\n      <td>0.0</td>\n      <td>0.0</td>\n      <td>0.06</td>\n      <td>0.07</td>\n      <td>0.06</td>\n      <td>0.07</td>\n      <td>1.331712e+08</td>\n      <td>0.0</td>\n      <td>0.0</td>\n    </tr>\n    <tr>\n      <th>1986-03-18</th>\n      <td>0.09</td>\n      <td>0.10</td>\n      <td>0.09</td>\n      <td>0.09</td>\n      <td>249356800.0</td>\n      <td>0.0</td>\n      <td>0.0</td>\n      <td>0.07</td>\n      <td>0.07</td>\n      <td>0.06</td>\n      <td>0.06</td>\n      <td>6.776640e+07</td>\n      <td>0.0</td>\n      <td>0.0</td>\n    </tr>\n    <tr>\n      <th>1986-03-19</th>\n      <td>0.09</td>\n      <td>0.10</td>\n      <td>0.09</td>\n      <td>0.09</td>\n      <td>189884800.0</td>\n      <td>0.0</td>\n      <td>0.0</td>\n      <td>0.06</td>\n      <td>0.06</td>\n      <td>0.06</td>\n      <td>0.06</td>\n      <td>4.789440e+07</td>\n      <td>0.0</td>\n      <td>0.0</td>\n    </tr>\n    <tr>\n      <th>...</th>\n      <th>...</th>\n      <td>...</td>\n      <td>...</td>\n      <td>...</td>\n      <td>...</td>\n      <td>...</td>\n      <td>...</td>\n      <td>...</td>\n      <td>...</td>\n      <td>...</td>\n      <td>...</td>\n      <td>...</td>\n      <td>...</td>\n      <td>...</td>\n      <td>...</td>\n    </tr>\n    <tr>\n      <th rowspan=\"5\" valign=\"top\">AL/DAT</th>\n      <th>2021-01-15</th>\n      <td>44.99</td>\n      <td>45.04</td>\n      <td>43.10</td>\n      <td>43.28</td>\n      <td>708600.0</td>\n      <td>0.0</td>\n      <td>0.0</td>\n      <td>30000.00</td>\n      <td>30650.00</td>\n      <td>30000.00</td>\n      <td>30650.00</td>\n      <td>2.000000e+02</td>\n      <td>0.0</td>\n      <td>0.0</td>\n    </tr>\n    <tr>\n      <th>2021-01-19</th>\n      <td>43.66</td>\n      <td>44.48</td>\n      <td>43.35</td>\n      <td>44.13</td>\n      <td>532200.0</td>\n      <td>0.0</td>\n      <td>0.0</td>\n      <td>30000.00</td>\n      <td>30000.00</td>\n      <td>30000.00</td>\n      <td>30000.00</td>\n      <td>5.000000e+01</td>\n      <td>0.0</td>\n      <td>0.0</td>\n    </tr>\n    <tr>\n      <th>2021-01-20</th>\n      <td>44.49</td>\n      <td>45.23</td>\n      <td>44.30</td>\n      <td>44.66</td>\n      <td>1125400.0</td>\n      <td>0.0</td>\n      <td>0.0</td>\n      <td>28100.00</td>\n      <td>29950.00</td>\n      <td>28100.00</td>\n      <td>29950.00</td>\n      <td>4.000000e+01</td>\n      <td>0.0</td>\n      <td>0.0</td>\n    </tr>\n    <tr>\n      <th>2021-01-21</th>\n      <td>44.71</td>\n      <td>44.77</td>\n      <td>42.91</td>\n      <td>43.17</td>\n      <td>636500.0</td>\n      <td>0.0</td>\n      <td>0.0</td>\n      <td>30000.00</td>\n      <td>30000.00</td>\n      <td>29900.00</td>\n      <td>29950.00</td>\n      <td>5.000000e+01</td>\n      <td>0.0</td>\n      <td>0.0</td>\n    </tr>\n    <tr>\n      <th>2021-01-22</th>\n      <td>42.56</td>\n      <td>43.04</td>\n      <td>41.71</td>\n      <td>42.50</td>\n      <td>769597.0</td>\n      <td>0.0</td>\n      <td>0.0</td>\n      <td>30000.00</td>\n      <td>30200.00</td>\n      <td>29900.00</td>\n      <td>29900.00</td>\n      <td>1.400000e+02</td>\n      <td>0.0</td>\n      <td>0.0</td>\n    </tr>\n  </tbody>\n</table>\n<p>10095 rows × 14 columns</p>\n</div>"
     },
     "execution_count": 14,
     "metadata": {},
     "output_type": "execute_result"
    }
   ],
   "source": [
    "qd.fetch([\"AAPL\", \"MSFT\"], [\"AL\", \"DAT\"])\n"
   ],
   "metadata": {
    "collapsed": false,
    "pycharm": {
     "name": "#%%\n"
    }
   }
  }
 ],
 "metadata": {
  "kernelspec": {
   "name": "pandas_ml_quant",
   "language": "python",
   "display_name": "Pandas ML Quant"
  },
  "language_info": {
   "codemirror_mode": {
    "name": "ipython",
    "version": 2
   },
   "file_extension": ".py",
   "mimetype": "text/x-python",
   "name": "python",
   "nbconvert_exporter": "python",
   "pygments_lexer": "ipython2",
   "version": "2.7.6"
  }
 },
 "nbformat": 4,
 "nbformat_minor": 0
}