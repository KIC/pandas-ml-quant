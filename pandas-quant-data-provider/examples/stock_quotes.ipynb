{
 "cells": [
  {
   "cell_type": "markdown",
   "source": [
    "First we need to import the module"
   ],
   "metadata": {
    "collapsed": false
   }
  },
  {
   "cell_type": "code",
   "execution_count": 2,
   "metadata": {
    "collapsed": true
   },
   "outputs": [
    {
     "ename": "ModuleNotFoundError",
     "evalue": "No module named 'pandas_quant_data_provider'",
     "output_type": "error",
     "traceback": [
      "\u001B[0;31m---------------------------------------------------------------------------\u001B[0m",
      "\u001B[0;31mModuleNotFoundError\u001B[0m                       Traceback (most recent call last)",
      "\u001B[0;32m<ipython-input-2-077b9a7bb564>\u001B[0m in \u001B[0;36m<module>\u001B[0;34m\u001B[0m\n\u001B[0;32m----> 1\u001B[0;31m \u001B[0;32mimport\u001B[0m \u001B[0mpandas_quant_data_provider\u001B[0m \u001B[0;32mas\u001B[0m \u001B[0mqd\u001B[0m\u001B[0;34m\u001B[0m\u001B[0;34m\u001B[0m\u001B[0m\n\u001B[0m\u001B[1;32m      2\u001B[0m \u001B[0;34m\u001B[0m\u001B[0m\n",
      "\u001B[0;31mModuleNotFoundError\u001B[0m: No module named 'pandas_quant_data_provider'"
     ]
    }
   ],
   "source": [
    "import pandas_quant_data_provider as qd"
   ]
  },
  {
   "cell_type": "markdown",
   "source": [
    "There are a lot of different ways to fetch data as well as organizing the resulting\n",
    "`DataFrame`.\n"
   ],
   "metadata": {
    "collapsed": false,
    "pycharm": {
     "name": "#%% md\n"
    }
   }
  },
  {
   "cell_type": "markdown",
   "source": [
    "### Control which provider plugin is used\n",
    "In order to find data in a resource like a web API a plugin system is needed. By\n",
    "default the loader loops through all the plugins loaded and looks if a symbol is\n",
    "provided by a cetrain plugin. If more then one plugin can provide data for a symbol\n",
    "a waring is raised and the first provider in the list is used."
   ],
   "metadata": {
    "collapsed": false
   }
  },
  {
   "cell_type": "code",
   "execution_count": null,
   "outputs": [],
   "source": [
    "qd.fetch(\"AAPL\").tail()"
   ],
   "metadata": {
    "collapsed": false,
    "pycharm": {
     "name": "#%%\n"
    }
   }
  },
  {
   "cell_type": "markdown",
   "source": [
    "In case you want more control over the used provider a `force_provider` parameter\n",
    "could be passed. Valid arguments are a string or a list of strings where the list\n",
    "determines a concrete priority over plugins which will be looped until data is\n",
    "receivable.\n",
    "\n",
    "qd.fetch(\"AAPL\", force_provider='yahoo').tail()"
   ],
   "metadata": {
    "collapsed": false
   }
  },
  {
   "cell_type": "markdown",
   "source": [
    "Under some circumstances i.e. for arbitrage you actualy want the same symbols data\n",
    "but from different providers. In this case you have to assign the plugin to the symbol"
   ],
   "metadata": {
    "collapsed": false
   }
  },
  {
   "cell_type": "code",
   "execution_count": null,
   "outputs": [],
   "source": [
    "qd.fetch(\"AAPL|yahoo\", \"AAPL|investing\").tail()\n"
   ],
   "metadata": {
    "collapsed": false,
    "pycharm": {
     "name": "#%%\n"
    }
   }
  },
  {
   "cell_type": "markdown",
   "source": [
    "### Control how the DataFrame is organized\n",
    "The `load` function accepts symbols as list or varargs. Once you pass more then one\n",
    "symbol a `MultiIndex` column will be returned with each symbol as top level column.\n",
    "Further more once can pass a nested list of symbols (like a 2D array). The data will\n",
    "then be organized with `MultiIndex` for rows and columns.\n",
    "\n",
    "NOTE For easy slicing `MultiIndex` columns the [pandas-ml-utils](https://github.com/KIC/pandas-ml-quant/tree/master/pandas-ml-utils)\n",
    "library can be handy."
   ],
   "metadata": {
    "collapsed": false,
    "pycharm": {
     "name": "#%% md\n"
    }
   }
  },
  {
   "cell_type": "code",
   "execution_count": null,
   "outputs": [],
   "source": [
    "qd.fetch(\"AAPL\", force_provider='yahoo').tail()"
   ],
   "metadata": {
    "collapsed": false,
    "pycharm": {
     "name": "#%%\n"
    }
   }
  },
  {
   "cell_type": "code",
   "execution_count": null,
   "outputs": [],
   "source": [
    "qd.fetch(\"AAPL\", \"MSFT\", force_provider='yahoo').tail()\n",
    "# which is equivalent to\n",
    "# qd.load([\"AAPL\", \"MSFT\"], force_provider='yahoo').tail()"
   ],
   "metadata": {
    "collapsed": false,
    "pycharm": {
     "name": "#%%\n"
    }
   }
  },
  {
   "cell_type": "code",
   "execution_count": null,
   "outputs": [],
   "source": [
    "qd.fetch([\"AAPL\", \"MSFT\"], [\"AL\", \"DAT\"], force_provider='yahoo')"
   ],
   "metadata": {
    "collapsed": false,
    "pycharm": {
     "name": "#%%\n"
    }
   }
  },
  {
   "cell_type": "markdown",
   "source": [
    "By the use of a plugin system the `load` function checks if a provider actually\n",
    "provides a given symbol. If multiple providers support a symbol a waring will be\n",
    "raised and the fist provider will be used.\n",
    "\n",
    "\n",
    "\n",
    "qd.load(\"AAPL\")"
   ],
   "metadata": {
    "collapsed": false
   }
  }
 ],
 "metadata": {
  "kernelspec": {
   "name": "pandas_ml_quant",
   "language": "python",
   "display_name": "Pandas ML Quant"
  },
  "language_info": {
   "codemirror_mode": {
    "name": "ipython",
    "version": 2
   },
   "file_extension": ".py",
   "mimetype": "text/x-python",
   "name": "python",
   "nbconvert_exporter": "python",
   "pygments_lexer": "ipython2",
   "version": "2.7.6"
  }
 },
 "nbformat": 4,
 "nbformat_minor": 0
}