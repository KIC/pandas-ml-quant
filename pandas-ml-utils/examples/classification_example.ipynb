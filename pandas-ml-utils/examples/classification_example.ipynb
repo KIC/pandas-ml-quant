{
 "cells": [
  {
   "cell_type": "code",
   "execution_count": 4,
   "metadata": {
    "pycharm": {
     "name": "#%%\n"
    }
   },
   "outputs": [
    {
     "name": "stdout",
     "output_type": "stream",
     "text": [
      "The autoreload extension is already loaded. To reload it, use:\n",
      "  %reload_ext autoreload\n"
     ]
    }
   ],
   "source": [
    "%matplotlib inline\n",
    "%load_ext autoreload\n",
    "%autoreload 2\n",
    "\n",
    "from pandas_ml_common import FeaturesLabels, stratified_random_splitter\n",
    "from pandas_ml_utils import pd, np, FittingParameter\n",
    "from pandas_ml_utils_test.config import DF_NOTES\n",
    "import matplotlib.pyplot as plt"
   ]
  },
  {
   "cell_type": "markdown",
   "metadata": {},
   "source": [
    "The following data set contains variables to determine whether a Note is valid or not"
   ]
  },
  {
   "cell_type": "code",
   "execution_count": 5,
   "metadata": {
    "pycharm": {
     "name": "#%%\n"
    }
   },
   "outputs": [
    {
     "data": {
      "text/plain": "      variance  skewness  kurtosis  entropy  authentic\n1367   0.40614   1.34920   -1.4501 -0.55949          1\n1368  -1.38870  -4.87730    6.4774  0.34179          1\n1369  -3.75030 -13.45860   17.5932 -2.77710          1\n1370  -3.56370  -8.38270   12.3930 -1.28230          1\n1371  -2.54190  -0.65804    2.6842  1.19520          1",
      "text/html": "<div>\n<style scoped>\n    .dataframe tbody tr th:only-of-type {\n        vertical-align: middle;\n    }\n\n    .dataframe tbody tr th {\n        vertical-align: top;\n    }\n\n    .dataframe thead th {\n        text-align: right;\n    }\n</style>\n<table border=\"1\" class=\"dataframe\">\n  <thead>\n    <tr style=\"text-align: right;\">\n      <th></th>\n      <th>variance</th>\n      <th>skewness</th>\n      <th>kurtosis</th>\n      <th>entropy</th>\n      <th>authentic</th>\n    </tr>\n  </thead>\n  <tbody>\n    <tr>\n      <th>1367</th>\n      <td>0.40614</td>\n      <td>1.34920</td>\n      <td>-1.4501</td>\n      <td>-0.55949</td>\n      <td>1</td>\n    </tr>\n    <tr>\n      <th>1368</th>\n      <td>-1.38870</td>\n      <td>-4.87730</td>\n      <td>6.4774</td>\n      <td>0.34179</td>\n      <td>1</td>\n    </tr>\n    <tr>\n      <th>1369</th>\n      <td>-3.75030</td>\n      <td>-13.45860</td>\n      <td>17.5932</td>\n      <td>-2.77710</td>\n      <td>1</td>\n    </tr>\n    <tr>\n      <th>1370</th>\n      <td>-3.56370</td>\n      <td>-8.38270</td>\n      <td>12.3930</td>\n      <td>-1.28230</td>\n      <td>1</td>\n    </tr>\n    <tr>\n      <th>1371</th>\n      <td>-2.54190</td>\n      <td>-0.65804</td>\n      <td>2.6842</td>\n      <td>1.19520</td>\n      <td>1</td>\n    </tr>\n  </tbody>\n</table>\n</div>"
     },
     "execution_count": 5,
     "metadata": {},
     "output_type": "execute_result"
    }
   ],
   "source": [
    "DF_NOTES.tail()"
   ]
  },
  {
   "cell_type": "markdown",
   "metadata": {},
   "source": [
    "Now lets estimate which features might be useful to predict the the label whether a note is authentic (1) or not (0).\n",
    "But before ew do that we add some redundancy and some random data. The feature selection should obviously be able to\n",
    "get rid of such useless data. Since we do not know if the data is sorted in some way we use a\n",
    "`stratified_random_splitter` to make sure that we have equally many instance of each class in the training and test set."
   ]
  },
  {
   "cell_type": "code",
   "execution_count": 6,
   "metadata": {
    "pycharm": {
     "name": "#%%\n"
    }
   },
   "outputs": [],
   "source": [
    "# make experiment reproducible\n",
    "np.random.seed(42)"
   ]
  },
  {
   "cell_type": "code",
   "execution_count": 7,
   "metadata": {
    "pycharm": {
     "name": "#%%\n"
    }
   },
   "outputs": [
    {
     "name": "stdout",
     "output_type": "stream",
     "text": [
      "exc_type: <class 'NameError'>\n",
      "exc_value: name 'res' is not defined\n",
      "exc_traceback: <traceback object at 0x7f31b21ae7c0>\n"
     ]
    },
    {
     "ename": "NameError",
     "evalue": "name 'res' is not defined",
     "output_type": "error",
     "traceback": [
      "\u001B[0;31m---------------------------------------------------------------------------\u001B[0m",
      "\u001B[0;31mNameError\u001B[0m                                 Traceback (most recent call last)",
      "\u001B[0;32m<ipython-input-7-44e3e68b425d>\u001B[0m in \u001B[0;36m<module>\u001B[0;34m\u001B[0m\n\u001B[1;32m      3\u001B[0m     \u001B[0;32mfrom\u001B[0m \u001B[0msklearn\u001B[0m\u001B[0;34m.\u001B[0m\u001B[0mneural_network\u001B[0m \u001B[0;32mimport\u001B[0m \u001B[0mMLPClassifier\u001B[0m\u001B[0;34m\u001B[0m\u001B[0;34m\u001B[0m\u001B[0m\n\u001B[1;32m      4\u001B[0m \u001B[0;34m\u001B[0m\u001B[0m\n\u001B[0;32m----> 5\u001B[0;31m     \u001B[0mnetwork_size\u001B[0m \u001B[0;34m=\u001B[0m \u001B[0mres\u001B[0m\u001B[0;34m.\u001B[0m\u001B[0mtraining_summary\u001B[0m\u001B[0;34m.\u001B[0m\u001B[0mnr_of_nodes\u001B[0m\u001B[0;34m\u001B[0m\u001B[0;34m\u001B[0m\u001B[0m\n\u001B[0m\u001B[1;32m      6\u001B[0m     \u001B[0mnr_layers\u001B[0m \u001B[0;34m=\u001B[0m \u001B[0;36m2\u001B[0m\u001B[0;34m\u001B[0m\u001B[0;34m\u001B[0m\u001B[0m\n\u001B[1;32m      7\u001B[0m \u001B[0;34m\u001B[0m\u001B[0m\n",
      "\u001B[0;31mNameError\u001B[0m: name 'res' is not defined"
     ]
    }
   ],
   "source": [
    "with DF_NOTES.model(\"notes-$V.model\") as m:  # note the $V makro allows to save multiple versions of the model\n",
    "    from pandas_ml_utils import FittableModel, SkModelProvider, FeaturesLabels, ClassificationSummary, stratified_random_splitter\n",
    "    from sklearn.neural_network import MLPClassifier\n",
    "    \n",
    "    network_size = 10\n",
    "    nr_layers = 2\n",
    "\n",
    "    hidden = [int(network_size ** (1 / float(nr_layers)))] * nr_layers\n",
    "    print(\"hidden size\", hidden)\n",
    "\n",
    "    fit = m.fit(\n",
    "        FittableModel(\n",
    "            SkModelProvider(MLPClassifier(hidden_layer_sizes=hidden, activation='tanh')),\n",
    "            FeaturesLabels(\n",
    "                features=[\"variance\", \"skewness\", \"kurtosis\"],\n",
    "                labels=[\"authentic\"]\n",
    "            ),\n",
    "            summary_provider=ClassificationSummary\n",
    "        ),\n",
    "        FittingParameter(splitter=stratified_random_splitter(0.25))\n",
    "    )\n",
    "\n",
    "fit"
   ]
  },
  {
   "cell_type": "markdown",
   "metadata": {
    "pycharm": {
     "name": "#%% md\n"
    }
   },
   "source": [
    "Here we are with a nicely fitted model :tada:\n",
    "\n",
    "We should also note that our model has been saved. So we can create any new script, app, etc. and just load it:\n",
    "```python\n",
    "from pandas_ml_utils import Model\n",
    "\n",
    "df = load_a_notes_data_frame()\n",
    "model = Model.load(f\"{fit.model.file_name}\")\n",
    "prediction = df.model.predict(model)\n",
    "```"
   ]
  }
 ],
 "metadata": {
  "kernelspec": {
   "display_name": "Pandas ML Quant",
   "language": "python",
   "name": "pandas_ml_quant"
  },
  "language_info": {
   "codemirror_mode": {
    "name": "ipython",
    "version": 3
   },
   "file_extension": ".py",
   "mimetype": "text/x-python",
   "name": "python",
   "nbconvert_exporter": "python",
   "pygments_lexer": "ipython3",
   "version": "3.7.9"
  }
 },
 "nbformat": 4,
 "nbformat_minor": 1
}