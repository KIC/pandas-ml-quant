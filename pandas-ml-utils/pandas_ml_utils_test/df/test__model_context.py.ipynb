{
 "cells": [
  {
   "cell_type": "code",
   "execution_count": 1,
   "metadata": {
    "collapsed": true
   },
   "outputs": [
    {
     "name": "stdout",
     "output_type": "stream",
     "text": [
      "path: /home/kic/sources/private/projects/pandas-quant/pandas-ml-utils/pandas_ml_utils_test/df | panda ml version: 0.2.0\n"
     ]
    },
    {
     "data": {
      "text/plain": "      variance  skewness  kurtosis  entropy  authentic\n1367   0.40614   1.34920   -1.4501 -0.55949          1\n1368  -1.38870  -4.87730    6.4774  0.34179          1\n1369  -3.75030 -13.45860   17.5932 -2.77710          1\n1370  -3.56370  -8.38270   12.3930 -1.28230          1\n1371  -2.54190  -0.65804    2.6842  1.19520          1",
      "text/html": "<div>\n<style scoped>\n    .dataframe tbody tr th:only-of-type {\n        vertical-align: middle;\n    }\n\n    .dataframe tbody tr th {\n        vertical-align: top;\n    }\n\n    .dataframe thead th {\n        text-align: right;\n    }\n</style>\n<table border=\"1\" class=\"dataframe\">\n  <thead>\n    <tr style=\"text-align: right;\">\n      <th></th>\n      <th>variance</th>\n      <th>skewness</th>\n      <th>kurtosis</th>\n      <th>entropy</th>\n      <th>authentic</th>\n    </tr>\n  </thead>\n  <tbody>\n    <tr>\n      <th>1367</th>\n      <td>0.40614</td>\n      <td>1.34920</td>\n      <td>-1.4501</td>\n      <td>-0.55949</td>\n      <td>1</td>\n    </tr>\n    <tr>\n      <th>1368</th>\n      <td>-1.38870</td>\n      <td>-4.87730</td>\n      <td>6.4774</td>\n      <td>0.34179</td>\n      <td>1</td>\n    </tr>\n    <tr>\n      <th>1369</th>\n      <td>-3.75030</td>\n      <td>-13.45860</td>\n      <td>17.5932</td>\n      <td>-2.77710</td>\n      <td>1</td>\n    </tr>\n    <tr>\n      <th>1370</th>\n      <td>-3.56370</td>\n      <td>-8.38270</td>\n      <td>12.3930</td>\n      <td>-1.28230</td>\n      <td>1</td>\n    </tr>\n    <tr>\n      <th>1371</th>\n      <td>-2.54190</td>\n      <td>-0.65804</td>\n      <td>2.6842</td>\n      <td>1.19520</td>\n      <td>1</td>\n    </tr>\n  </tbody>\n</table>\n</div>"
     },
     "execution_count": 1,
     "metadata": {},
     "output_type": "execute_result"
    }
   ],
   "source": [
    "import os\n",
    "\n",
    "from pandas_ml_utils_test import config\n",
    "import pandas_ml_utils as pmu\n",
    "\n",
    "print(f'path: {os.path.abspath(\".\")} | panda ml version: {pmu.__version__}')\n",
    "config.DF_NOTES.tail()"
   ]
  },
  {
   "cell_type": "code",
   "execution_count": null,
   "outputs": [],
   "source": [
    "with config.DF_NOTES.model('test_ctx.model') as ctx:\n",
    "    from pandas_ml_common.sampling import random_splitter\n",
    "    from pandas_ml_utils import SkModel, FeaturesAndLabels\n",
    "    from sklearn.neural_network import MLPRegressor\n",
    "\n",
    "    class Foo(object):\n",
    "\n",
    "        def __init__(self):\n",
    "            pass\n",
    "\n",
    "        def bar(self, df):\n",
    "            print(\"haha\")\n",
    "            return df['entropy'] / 3\n",
    "\n",
    "\n",
    "    ctx.fit(\n",
    "        SkModel(\n",
    "            MLPRegressor(activation='tanh'),\n",
    "            FeaturesAndLabels(\n",
    "                features=[\n",
    "                    'variance', 'skewness', 'kurtosis',\n",
    "                    Foo().bar\n",
    "                ],\n",
    "                labels=['authentic']\n",
    "            ),\n",
    "        ),\n",
    "        training_data_splitter=random_splitter()\n",
    "    )\n",
    "\n",
    "\n"
   ],
   "metadata": {
    "collapsed": false,
    "pycharm": {
     "name": "#%%\n"
    }
   }
  }
 ],
 "metadata": {
  "kernelspec": {
   "display_name": "Python 3",
   "language": "python",
   "name": "python3"
  },
  "language_info": {
   "codemirror_mode": {
    "name": "ipython",
    "version": 2
   },
   "file_extension": ".py",
   "mimetype": "text/x-python",
   "name": "python",
   "nbconvert_exporter": "python",
   "pygments_lexer": "ipython2",
   "version": "2.7.6"
  }
 },
 "nbformat": 4,
 "nbformat_minor": 0
}