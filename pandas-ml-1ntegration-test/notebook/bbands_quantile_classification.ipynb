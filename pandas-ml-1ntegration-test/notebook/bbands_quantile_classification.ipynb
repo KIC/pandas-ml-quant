{
 "cells": [
  {
   "cell_type": "code",
   "execution_count": 1,
   "metadata": {
    "collapsed": true
   },
   "outputs": [
    {
     "name": "stderr",
     "output_type": "stream",
     "text": [
      "pandas_ta_quant_plot not found: No module named 'mplcursors'\n",
      "automatically imported pandas_quant_data_provider 0.2.0\n"
     ]
    }
   ],
   "source": [
    "%matplotlib inline\n",
    "%load_ext autoreload\n",
    "%autoreload 2\n",
    "\n",
    "import pandas_ml_quant\n",
    "import pandas_quant_data_provider as qd"
   ]
  },
  {
   "cell_type": "code",
   "execution_count": 2,
   "outputs": [
    {
     "name": "stdout",
     "output_type": "stream",
     "text": [
      "0.2.0\n"
     ]
    }
   ],
   "source": [
    "print(pandas_ml_quant.__version__)\n",
    "df = qd.fetch(\"SPY\")"
   ],
   "metadata": {
    "collapsed": false,
    "pycharm": {
     "name": "#%%\n"
    }
   }
  },
  {
   "cell_type": "code",
   "execution_count": 3,
   "outputs": [
    {
     "name": "stdout",
     "output_type": "stream",
     "text": [
      "exc_type: <class 'AttributeError'>\n",
      "exc_value: 'function' object has no attribute 'splitter'\n",
      "exc_traceback: <traceback object at 0x7f2050603c00>\n"
     ]
    },
    {
     "ename": "AttributeError",
     "evalue": "'function' object has no attribute 'splitter'",
     "output_type": "error",
     "traceback": [
      "\u001B[0;31m---------------------------------------------------------------------------\u001B[0m",
      "\u001B[0;31mAttributeError\u001B[0m                            Traceback (most recent call last)",
      "\u001B[0;32m<ipython-input-3-0c7a41029241>\u001B[0m in \u001B[0;36m<module>\u001B[0;34m\u001B[0m\n\u001B[1;32m      6\u001B[0m     \u001B[0;32mfrom\u001B[0m \u001B[0mpandas_ml_utils\u001B[0m \u001B[0;32mimport\u001B[0m \u001B[0mSkModel\u001B[0m\u001B[0;34m,\u001B[0m \u001B[0mPostProcessedFeaturesAndLabels\u001B[0m\u001B[0;34m,\u001B[0m \u001B[0mClassificationSummary\u001B[0m\u001B[0;34m\u001B[0m\u001B[0;34m\u001B[0m\u001B[0m\n\u001B[1;32m      7\u001B[0m \u001B[0;34m\u001B[0m\u001B[0m\n\u001B[0;32m----> 8\u001B[0;31m     fit = m.fit(\n\u001B[0m\u001B[1;32m      9\u001B[0m         SkModel(\n\u001B[1;32m     10\u001B[0m             \u001B[0mMLPClassifier\u001B[0m\u001B[0;34m(\u001B[0m\u001B[0mactivation\u001B[0m\u001B[0;34m=\u001B[0m\u001B[0;34m'tanh'\u001B[0m\u001B[0;34m,\u001B[0m \u001B[0mhidden_layer_sizes\u001B[0m\u001B[0;34m=\u001B[0m\u001B[0;34m(\u001B[0m\u001B[0;36m60\u001B[0m\u001B[0;34m,\u001B[0m \u001B[0;36m50\u001B[0m\u001B[0;34m)\u001B[0m\u001B[0;34m,\u001B[0m \u001B[0mrandom_state\u001B[0m\u001B[0;34m=\u001B[0m\u001B[0;36m42\u001B[0m\u001B[0;34m,\u001B[0m \u001B[0mwarm_start\u001B[0m\u001B[0;34m=\u001B[0m\u001B[0;32mTrue\u001B[0m\u001B[0;34m,\u001B[0m \u001B[0mmax_iter\u001B[0m\u001B[0;34m=\u001B[0m\u001B[0;36m2\u001B[0m\u001B[0;34m)\u001B[0m\u001B[0;34m,\u001B[0m\u001B[0;34m\u001B[0m\u001B[0;34m\u001B[0m\u001B[0m\n",
      "\u001B[0;32m~/sources/private/projects/pandas-quant/pandas-ml-utils/pandas_ml_utils/df_patching/model_context.py\u001B[0m in \u001B[0;36mfit\u001B[0;34m(self, *args, **kwargs)\u001B[0m\n\u001B[1;32m     23\u001B[0m     \u001B[0;34m@\u001B[0m\u001B[0mwraps\u001B[0m\u001B[0;34m(\u001B[0m\u001B[0mDfModelPatch\u001B[0m\u001B[0;34m.\u001B[0m\u001B[0mfit\u001B[0m\u001B[0;34m)\u001B[0m\u001B[0;34m\u001B[0m\u001B[0;34m\u001B[0m\u001B[0m\n\u001B[1;32m     24\u001B[0m     \u001B[0;32mdef\u001B[0m \u001B[0mfit\u001B[0m\u001B[0;34m(\u001B[0m\u001B[0mself\u001B[0m\u001B[0;34m,\u001B[0m \u001B[0;34m*\u001B[0m\u001B[0margs\u001B[0m\u001B[0;34m,\u001B[0m \u001B[0;34m**\u001B[0m\u001B[0mkwargs\u001B[0m\u001B[0;34m)\u001B[0m \u001B[0;34m->\u001B[0m \u001B[0mFit\u001B[0m\u001B[0;34m:\u001B[0m\u001B[0;34m\u001B[0m\u001B[0;34m\u001B[0m\u001B[0m\n\u001B[0;32m---> 25\u001B[0;31m         \u001B[0mfit\u001B[0m \u001B[0;34m=\u001B[0m \u001B[0mself\u001B[0m\u001B[0;34m.\u001B[0m\u001B[0mdf\u001B[0m\u001B[0;34m.\u001B[0m\u001B[0mmodel\u001B[0m\u001B[0;34m.\u001B[0m\u001B[0mfit\u001B[0m\u001B[0;34m(\u001B[0m\u001B[0;34m*\u001B[0m\u001B[0margs\u001B[0m\u001B[0;34m,\u001B[0m \u001B[0;34m**\u001B[0m\u001B[0mkwargs\u001B[0m\u001B[0;34m)\u001B[0m\u001B[0;34m\u001B[0m\u001B[0;34m\u001B[0m\u001B[0m\n\u001B[0m\u001B[1;32m     26\u001B[0m \u001B[0;34m\u001B[0m\u001B[0m\n\u001B[1;32m     27\u001B[0m         \u001B[0;32mif\u001B[0m \u001B[0mself\u001B[0m\u001B[0;34m.\u001B[0m\u001B[0mfile_name\u001B[0m \u001B[0;32mis\u001B[0m \u001B[0;32mnot\u001B[0m \u001B[0;32mNone\u001B[0m\u001B[0;34m:\u001B[0m\u001B[0;34m\u001B[0m\u001B[0;34m\u001B[0m\u001B[0m\n",
      "\u001B[0;32m~/sources/private/projects/pandas-quant/pandas-ml-utils/pandas_ml_utils/df_patching/model_patch.py\u001B[0m in \u001B[0;36mfit\u001B[0;34m(self, model_provider, fitting_parameter, verbose, callbacks, fail_silent, **kwargs)\u001B[0m\n\u001B[1;32m    121\u001B[0m         \u001B[0m_log\u001B[0m\u001B[0;34m.\u001B[0m\u001B[0minfo\u001B[0m\u001B[0;34m(\u001B[0m\u001B[0;34m\"create model\"\u001B[0m\u001B[0;34m)\u001B[0m\u001B[0;34m\u001B[0m\u001B[0;34m\u001B[0m\u001B[0m\n\u001B[1;32m    122\u001B[0m \u001B[0;34m\u001B[0m\u001B[0m\n\u001B[0;32m--> 123\u001B[0;31m         df_train_prediction, df_test_prediction = model.fit(\n\u001B[0m\u001B[1;32m    124\u001B[0m             \u001B[0mXYWeight\u001B[0m\u001B[0;34m(\u001B[0m\u001B[0mframes\u001B[0m\u001B[0;34m.\u001B[0m\u001B[0mfeatures\u001B[0m\u001B[0;34m,\u001B[0m \u001B[0mframes\u001B[0m\u001B[0;34m.\u001B[0m\u001B[0mlabels\u001B[0m\u001B[0;34m,\u001B[0m \u001B[0mframes\u001B[0m\u001B[0;34m.\u001B[0m\u001B[0msample_weights\u001B[0m\u001B[0;34m)\u001B[0m\u001B[0;34m,\u001B[0m\u001B[0;34m\u001B[0m\u001B[0;34m\u001B[0m\u001B[0m\n\u001B[1;32m    125\u001B[0m             \u001B[0mfitting_parameter\u001B[0m\u001B[0;34m,\u001B[0m\u001B[0;34m\u001B[0m\u001B[0;34m\u001B[0m\u001B[0m\n",
      "\u001B[0;32m~/sources/private/projects/pandas-quant/pandas-ml-utils/pandas_ml_utils/ml/model/base_model.py\u001B[0m in \u001B[0;36mfit\u001B[0;34m(self, x_y_weights, fitting_parameter, verbose, callbacks, **kwargs)\u001B[0m\n\u001B[1;32m     86\u001B[0m             Sampler(\n\u001B[1;32m     87\u001B[0m                 \u001B[0mx_y_weights\u001B[0m\u001B[0;34m,\u001B[0m\u001B[0;34m\u001B[0m\u001B[0;34m\u001B[0m\u001B[0m\n\u001B[0;32m---> 88\u001B[0;31m                 \u001B[0msplitter\u001B[0m\u001B[0;34m=\u001B[0m\u001B[0mfitting_parameter\u001B[0m\u001B[0;34m.\u001B[0m\u001B[0msplitter\u001B[0m\u001B[0;34m,\u001B[0m\u001B[0;34m\u001B[0m\u001B[0;34m\u001B[0m\u001B[0m\n\u001B[0m\u001B[1;32m     89\u001B[0m                 \u001B[0mfilter\u001B[0m\u001B[0;34m=\u001B[0m\u001B[0mfitting_parameter\u001B[0m\u001B[0;34m.\u001B[0m\u001B[0mfilter\u001B[0m\u001B[0;34m,\u001B[0m\u001B[0;34m\u001B[0m\u001B[0;34m\u001B[0m\u001B[0m\n\u001B[1;32m     90\u001B[0m                 \u001B[0mcross_validation\u001B[0m\u001B[0;34m=\u001B[0m\u001B[0mfitting_parameter\u001B[0m\u001B[0;34m.\u001B[0m\u001B[0mcross_validation\u001B[0m\u001B[0;34m,\u001B[0m\u001B[0;34m\u001B[0m\u001B[0;34m\u001B[0m\u001B[0m\n",
      "\u001B[0;31mAttributeError\u001B[0m: 'function' object has no attribute 'splitter'"
     ]
    }
   ],
   "source": [
    "with df.model() as m:\n",
    "    from sklearn.neural_network import MLPClassifier\n",
    "\n",
    "    from pandas_ml_common import random_splitter\n",
    "    from pandas_ml_common.sampling.cross_validation import KEquallyWeightEvents\n",
    "    from pandas_ml_utils import SkModel, PostProcessedFeaturesAndLabels, ClassificationSummary\n",
    "\n",
    "    fit = m.fit(\n",
    "        SkModel(\n",
    "            MLPClassifier(activation='tanh', hidden_layer_sizes=(60, 50), random_state=42, warm_start=True, max_iter=2),\n",
    "            PostProcessedFeaturesAndLabels(\n",
    "                features=\n",
    "                    [\n",
    "                        lambda df: df[\"Close\"].ta.macd()._[['macd.*', 'signal.*']],\n",
    "                        lambda df: df.ta.adx()._[['+DI', '-DM', '+DM']],\n",
    "                        lambda df: df[\"Close\"].ta.mom(),\n",
    "                        lambda df: df[\"Close\"].ta.apo(),\n",
    "                        lambda df: df.ta.atr(),\n",
    "                        lambda df: df[\"Close\"].ta.trix(),\n",
    "                    ],\n",
    "                feature_post_processor=lambda df: df.ta.rnn(280),\n",
    "                labels=[\n",
    "                    lambda df: df[\"Close\"].ta.future_bband_quantile(include_mean=False).ta.one_hot_encode_discrete()\n",
    "                ],\n",
    "                targets=[\n",
    "                    lambda df: df[\"Close\"].ta.bbands()[[\"lower\", \"upper\"]]\n",
    "                ]\n",
    "            ),\n",
    "            summary_provider=ClassificationSummary,\n",
    "        ),\n",
    "        random_splitter(test_size=0.4, seed=42),\n",
    "        cross_validation=KEquallyWeightEvents(n_splits=3)\n",
    "    )\n",
    "\n",
    "fit"
   ],
   "metadata": {
    "collapsed": false,
    "pycharm": {
     "name": "#%%\n"
    }
   }
  },
  {
   "cell_type": "code",
   "execution_count": null,
   "outputs": [],
   "source": [
    "fit.model._history"
   ],
   "metadata": {
    "collapsed": false,
    "pycharm": {
     "name": "#%%\n"
    }
   }
  }
 ],
 "metadata": {
  "kernelspec": {
   "name": "pandas_ml_quant",
   "language": "python",
   "display_name": "Pandas ML Quant"
  },
  "language_info": {
   "codemirror_mode": {
    "name": "ipython",
    "version": 2
   },
   "file_extension": ".py",
   "mimetype": "text/x-python",
   "name": "python",
   "nbconvert_exporter": "python",
   "pygments_lexer": "ipython2",
   "version": "2.7.6"
  }
 },
 "nbformat": 4,
 "nbformat_minor": 0
}