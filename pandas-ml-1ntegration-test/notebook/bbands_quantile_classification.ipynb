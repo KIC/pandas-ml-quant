{
 "cells": [
  {
   "cell_type": "code",
   "execution_count": 5,
   "metadata": {
    "collapsed": true
   },
   "outputs": [
    {
     "name": "stdout",
     "output_type": "stream",
     "text": [
      "The autoreload extension is already loaded. To reload it, use:\n",
      "  %reload_ext autoreload\n"
     ]
    }
   ],
   "source": [
    "%matplotlib inline\n",
    "%load_ext autoreload\n",
    "%autoreload 2\n",
    "\n",
    "import pandas_ml_quant\n",
    "import pandas_quant_data_provider as qd"
   ]
  },
  {
   "cell_type": "code",
   "execution_count": 6,
   "outputs": [
    {
     "name": "stdout",
     "output_type": "stream",
     "text": [
      "0.2.0\n"
     ]
    }
   ],
   "source": [
    "print(pandas_ml_quant.__version__)\n",
    "df = qd.fetch(\"SPY\")[-500:]"
   ],
   "metadata": {
    "collapsed": false,
    "pycharm": {
     "name": "#%%\n"
    }
   }
  },
  {
   "cell_type": "code",
   "execution_count": 7,
   "outputs": [
    {
     "name": "stderr",
     "output_type": "stream",
     "text": [
      "WARNING:pandas_ml_common.sampling.sampler:using epochs > 1 together with cross folding may lead to different folds for each epoch!KEquallyWeightEvents(n_splits=3, seed=None)\n",
      "WARNING:pandas_ml_common.sampling.sampler:using epochs > 1 together with cross folding may lead to different folds for each epoch!<bound method KEquallyWeightEvents.split of KEquallyWeightEvents(n_splits=3, seed=None)>\n"
     ]
    },
    {
     "name": "stdout",
     "output_type": "stream",
     "text": [
      "exc_type: <class 'ValueError'>\n",
      "exc_value: (\"You might need to pass 'classes' argument for partial fitting\", ValueError('classes must be passed on the first call to partial_fit.'))\n",
      "exc_traceback: <traceback object at 0x7fa93ce61ac0>\n"
     ]
    },
    {
     "ename": "ValueError",
     "evalue": "(\"You might need to pass 'classes' argument for partial fitting\", ValueError('classes must be passed on the first call to partial_fit.'))",
     "output_type": "error",
     "traceback": [
      "\u001B[0;31m---------------------------------------------------------------------------\u001B[0m",
      "\u001B[0;31mValueError\u001B[0m                                Traceback (most recent call last)",
      "\u001B[0;32m~/sources/private/projects/pandas-quant/pandas-ml-utils/pandas_ml_utils/ml/model/scikit_learn_model.py\u001B[0m in \u001B[0;36mfit_batch\u001B[0;34m(self, x, y, weight, fold, **kwargs)\u001B[0m\n\u001B[1;32m     61\u001B[0m                 \u001B[0;32mtry\u001B[0m\u001B[0;34m:\u001B[0m\u001B[0;34m\u001B[0m\u001B[0;34m\u001B[0m\u001B[0m\n\u001B[0;32m---> 62\u001B[0;31m                     \u001B[0mself\u001B[0m\u001B[0;34m.\u001B[0m\u001B[0msk_model\u001B[0m \u001B[0;34m=\u001B[0m \u001B[0mself\u001B[0m\u001B[0;34m.\u001B[0m\u001B[0msk_model\u001B[0m\u001B[0;34m.\u001B[0m\u001B[0mpartial_fit\u001B[0m\u001B[0;34m(\u001B[0m\u001B[0m_x\u001B[0m\u001B[0;34m,\u001B[0m \u001B[0m_y\u001B[0m\u001B[0;34m,\u001B[0m \u001B[0;34m**\u001B[0m\u001B[0mkw_classes\u001B[0m\u001B[0;34m)\u001B[0m\u001B[0;34m\u001B[0m\u001B[0;34m\u001B[0m\u001B[0m\n\u001B[0m\u001B[1;32m     63\u001B[0m                 \u001B[0;32mexcept\u001B[0m \u001B[0mException\u001B[0m \u001B[0;32mas\u001B[0m \u001B[0me\u001B[0m\u001B[0;34m:\u001B[0m\u001B[0;34m\u001B[0m\u001B[0;34m\u001B[0m\u001B[0m\n",
      "\u001B[0;32m~/.local/lib/python3.8/site-packages/sklearn/neural_network/_multilayer_perceptron.py\u001B[0m in \u001B[0;36m_partial_fit\u001B[0;34m(self, X, y, classes)\u001B[0m\n\u001B[1;32m   1060\u001B[0m     \u001B[0;32mdef\u001B[0m \u001B[0m_partial_fit\u001B[0m\u001B[0;34m(\u001B[0m\u001B[0mself\u001B[0m\u001B[0;34m,\u001B[0m \u001B[0mX\u001B[0m\u001B[0;34m,\u001B[0m \u001B[0my\u001B[0m\u001B[0;34m,\u001B[0m \u001B[0mclasses\u001B[0m\u001B[0;34m=\u001B[0m\u001B[0;32mNone\u001B[0m\u001B[0;34m)\u001B[0m\u001B[0;34m:\u001B[0m\u001B[0;34m\u001B[0m\u001B[0;34m\u001B[0m\u001B[0m\n\u001B[0;32m-> 1061\u001B[0;31m         \u001B[0;32mif\u001B[0m \u001B[0m_check_partial_fit_first_call\u001B[0m\u001B[0;34m(\u001B[0m\u001B[0mself\u001B[0m\u001B[0;34m,\u001B[0m \u001B[0mclasses\u001B[0m\u001B[0;34m)\u001B[0m\u001B[0;34m:\u001B[0m\u001B[0;34m\u001B[0m\u001B[0;34m\u001B[0m\u001B[0m\n\u001B[0m\u001B[1;32m   1062\u001B[0m             \u001B[0mself\u001B[0m\u001B[0;34m.\u001B[0m\u001B[0m_label_binarizer\u001B[0m \u001B[0;34m=\u001B[0m \u001B[0mLabelBinarizer\u001B[0m\u001B[0;34m(\u001B[0m\u001B[0;34m)\u001B[0m\u001B[0;34m\u001B[0m\u001B[0;34m\u001B[0m\u001B[0m\n",
      "\u001B[0;32m~/.local/lib/python3.8/site-packages/sklearn/utils/multiclass.py\u001B[0m in \u001B[0;36m_check_partial_fit_first_call\u001B[0;34m(clf, classes)\u001B[0m\n\u001B[1;32m    310\u001B[0m     \u001B[0;32mif\u001B[0m \u001B[0mgetattr\u001B[0m\u001B[0;34m(\u001B[0m\u001B[0mclf\u001B[0m\u001B[0;34m,\u001B[0m \u001B[0;34m'classes_'\u001B[0m\u001B[0;34m,\u001B[0m \u001B[0;32mNone\u001B[0m\u001B[0;34m)\u001B[0m \u001B[0;32mis\u001B[0m \u001B[0;32mNone\u001B[0m \u001B[0;32mand\u001B[0m \u001B[0mclasses\u001B[0m \u001B[0;32mis\u001B[0m \u001B[0;32mNone\u001B[0m\u001B[0;34m:\u001B[0m\u001B[0;34m\u001B[0m\u001B[0;34m\u001B[0m\u001B[0m\n\u001B[0;32m--> 311\u001B[0;31m         raise ValueError(\"classes must be passed on the first call \"\n\u001B[0m\u001B[1;32m    312\u001B[0m                          \"to partial_fit.\")\n",
      "\u001B[0;31mValueError\u001B[0m: classes must be passed on the first call to partial_fit.",
      "\nDuring handling of the above exception, another exception occurred:\n",
      "\u001B[0;31mValueError\u001B[0m                                Traceback (most recent call last)",
      "\u001B[0;32m<ipython-input-7-42984b50cd5d>\u001B[0m in \u001B[0;36m<module>\u001B[0;34m\u001B[0m\n\u001B[1;32m      6\u001B[0m     \u001B[0;32mfrom\u001B[0m \u001B[0mpandas_ml_utils\u001B[0m \u001B[0;32mimport\u001B[0m \u001B[0mSkModel\u001B[0m\u001B[0;34m,\u001B[0m \u001B[0mPostProcessedFeaturesAndLabels\u001B[0m\u001B[0;34m,\u001B[0m \u001B[0mClassificationSummary\u001B[0m\u001B[0;34m,\u001B[0m \u001B[0mFittingParameter\u001B[0m\u001B[0;34m\u001B[0m\u001B[0;34m\u001B[0m\u001B[0m\n\u001B[1;32m      7\u001B[0m \u001B[0;34m\u001B[0m\u001B[0m\n\u001B[0;32m----> 8\u001B[0;31m     fit = m.fit(\n\u001B[0m\u001B[1;32m      9\u001B[0m         SkModel(\n\u001B[1;32m     10\u001B[0m             \u001B[0mMLPClassifier\u001B[0m\u001B[0;34m(\u001B[0m\u001B[0mactivation\u001B[0m\u001B[0;34m=\u001B[0m\u001B[0;34m'tanh'\u001B[0m\u001B[0;34m,\u001B[0m \u001B[0mhidden_layer_sizes\u001B[0m\u001B[0;34m=\u001B[0m\u001B[0;34m(\u001B[0m\u001B[0;36m60\u001B[0m\u001B[0;34m,\u001B[0m \u001B[0;36m50\u001B[0m\u001B[0;34m)\u001B[0m\u001B[0;34m,\u001B[0m \u001B[0mrandom_state\u001B[0m\u001B[0;34m=\u001B[0m\u001B[0;36m42\u001B[0m\u001B[0;34m,\u001B[0m \u001B[0mwarm_start\u001B[0m\u001B[0;34m=\u001B[0m\u001B[0;32mTrue\u001B[0m\u001B[0;34m,\u001B[0m \u001B[0mmax_iter\u001B[0m\u001B[0;34m=\u001B[0m\u001B[0;36m1\u001B[0m\u001B[0;34m)\u001B[0m\u001B[0;34m,\u001B[0m\u001B[0;34m\u001B[0m\u001B[0;34m\u001B[0m\u001B[0m\n",
      "\u001B[0;32m~/sources/private/projects/pandas-quant/pandas-ml-utils/pandas_ml_utils/df_patching/model_context.py\u001B[0m in \u001B[0;36mfit\u001B[0;34m(self, *args, **kwargs)\u001B[0m\n\u001B[1;32m     23\u001B[0m     \u001B[0;34m@\u001B[0m\u001B[0mwraps\u001B[0m\u001B[0;34m(\u001B[0m\u001B[0mDfModelPatch\u001B[0m\u001B[0;34m.\u001B[0m\u001B[0mfit\u001B[0m\u001B[0;34m)\u001B[0m\u001B[0;34m\u001B[0m\u001B[0;34m\u001B[0m\u001B[0m\n\u001B[1;32m     24\u001B[0m     \u001B[0;32mdef\u001B[0m \u001B[0mfit\u001B[0m\u001B[0;34m(\u001B[0m\u001B[0mself\u001B[0m\u001B[0;34m,\u001B[0m \u001B[0;34m*\u001B[0m\u001B[0margs\u001B[0m\u001B[0;34m,\u001B[0m \u001B[0;34m**\u001B[0m\u001B[0mkwargs\u001B[0m\u001B[0;34m)\u001B[0m \u001B[0;34m->\u001B[0m \u001B[0mFit\u001B[0m\u001B[0;34m:\u001B[0m\u001B[0;34m\u001B[0m\u001B[0;34m\u001B[0m\u001B[0m\n\u001B[0;32m---> 25\u001B[0;31m         \u001B[0mfit\u001B[0m \u001B[0;34m=\u001B[0m \u001B[0mself\u001B[0m\u001B[0;34m.\u001B[0m\u001B[0mdf\u001B[0m\u001B[0;34m.\u001B[0m\u001B[0mmodel\u001B[0m\u001B[0;34m.\u001B[0m\u001B[0mfit\u001B[0m\u001B[0;34m(\u001B[0m\u001B[0;34m*\u001B[0m\u001B[0margs\u001B[0m\u001B[0;34m,\u001B[0m \u001B[0;34m**\u001B[0m\u001B[0mkwargs\u001B[0m\u001B[0;34m)\u001B[0m\u001B[0;34m\u001B[0m\u001B[0;34m\u001B[0m\u001B[0m\n\u001B[0m\u001B[1;32m     26\u001B[0m \u001B[0;34m\u001B[0m\u001B[0m\n\u001B[1;32m     27\u001B[0m         \u001B[0;32mif\u001B[0m \u001B[0mself\u001B[0m\u001B[0;34m.\u001B[0m\u001B[0mfile_name\u001B[0m \u001B[0;32mis\u001B[0m \u001B[0;32mnot\u001B[0m \u001B[0;32mNone\u001B[0m\u001B[0;34m:\u001B[0m\u001B[0;34m\u001B[0m\u001B[0;34m\u001B[0m\u001B[0m\n",
      "\u001B[0;32m~/sources/private/projects/pandas-quant/pandas-ml-utils/pandas_ml_utils/df_patching/model_patch.py\u001B[0m in \u001B[0;36mfit\u001B[0;34m(self, model_provider, fitting_parameter, verbose, callbacks, fail_silent, **kwargs)\u001B[0m\n\u001B[1;32m    121\u001B[0m         \u001B[0m_log\u001B[0m\u001B[0;34m.\u001B[0m\u001B[0minfo\u001B[0m\u001B[0;34m(\u001B[0m\u001B[0;34m\"create model\"\u001B[0m\u001B[0;34m)\u001B[0m\u001B[0;34m\u001B[0m\u001B[0;34m\u001B[0m\u001B[0m\n\u001B[1;32m    122\u001B[0m \u001B[0;34m\u001B[0m\u001B[0m\n\u001B[0;32m--> 123\u001B[0;31m         df_train_prediction, df_test_prediction = model.fit(\n\u001B[0m\u001B[1;32m    124\u001B[0m             \u001B[0mXYWeight\u001B[0m\u001B[0;34m(\u001B[0m\u001B[0mframes\u001B[0m\u001B[0;34m.\u001B[0m\u001B[0mfeatures\u001B[0m\u001B[0;34m,\u001B[0m \u001B[0mframes\u001B[0m\u001B[0;34m.\u001B[0m\u001B[0mlabels\u001B[0m\u001B[0;34m,\u001B[0m \u001B[0mframes\u001B[0m\u001B[0;34m.\u001B[0m\u001B[0msample_weights\u001B[0m\u001B[0;34m)\u001B[0m\u001B[0;34m,\u001B[0m\u001B[0;34m\u001B[0m\u001B[0;34m\u001B[0m\u001B[0m\n\u001B[1;32m    125\u001B[0m             \u001B[0mfitting_parameter\u001B[0m\u001B[0;34m,\u001B[0m\u001B[0;34m\u001B[0m\u001B[0;34m\u001B[0m\u001B[0m\n",
      "\u001B[0;32m~/sources/private/projects/pandas-quant/pandas-ml-utils/pandas_ml_utils/ml/model/base_model.py\u001B[0m in \u001B[0;36mfit\u001B[0;34m(self, x_y_weights, fitting_parameter, verbose, callbacks, **kwargs)\u001B[0m\n\u001B[1;32m     98\u001B[0m \u001B[0;34m\u001B[0m\u001B[0m\n\u001B[1;32m     99\u001B[0m         \u001B[0;32mfor\u001B[0m \u001B[0mbatch\u001B[0m \u001B[0;32min\u001B[0m \u001B[0msampler\u001B[0m\u001B[0;34m.\u001B[0m\u001B[0msample_for_training\u001B[0m\u001B[0;34m(\u001B[0m\u001B[0;34m)\u001B[0m\u001B[0;34m:\u001B[0m\u001B[0;34m\u001B[0m\u001B[0;34m\u001B[0m\u001B[0m\n\u001B[0;32m--> 100\u001B[0;31m             \u001B[0mself\u001B[0m\u001B[0;34m.\u001B[0m\u001B[0mfit_batch\u001B[0m\u001B[0;34m(\u001B[0m\u001B[0mbatch\u001B[0m\u001B[0;34m.\u001B[0m\u001B[0mx\u001B[0m\u001B[0;34m,\u001B[0m \u001B[0mbatch\u001B[0m\u001B[0;34m.\u001B[0m\u001B[0my\u001B[0m\u001B[0;34m,\u001B[0m \u001B[0mbatch\u001B[0m\u001B[0;34m.\u001B[0m\u001B[0mweight\u001B[0m\u001B[0;34m,\u001B[0m \u001B[0mbatch\u001B[0m\u001B[0;34m.\u001B[0m\u001B[0mfold\u001B[0m\u001B[0;34m,\u001B[0m \u001B[0;34m**\u001B[0m\u001B[0mkwargs\u001B[0m\u001B[0;34m)\u001B[0m\u001B[0;34m\u001B[0m\u001B[0;34m\u001B[0m\u001B[0m\n\u001B[0m\u001B[1;32m    101\u001B[0m             \u001B[0mprocessed_batches\u001B[0m \u001B[0;34m+=\u001B[0m \u001B[0;36m1\u001B[0m\u001B[0;34m\u001B[0m\u001B[0;34m\u001B[0m\u001B[0m\n\u001B[1;32m    102\u001B[0m \u001B[0;34m\u001B[0m\u001B[0m\n",
      "\u001B[0;32m~/sources/private/projects/pandas-quant/pandas-ml-utils/pandas_ml_utils/ml/model/scikit_learn_model.py\u001B[0m in \u001B[0;36mfit_batch\u001B[0;34m(self, x, y, weight, fold, **kwargs)\u001B[0m\n\u001B[1;32m     65\u001B[0m                         \u001B[0;32mraise\u001B[0m \u001B[0me\u001B[0m\u001B[0;34m\u001B[0m\u001B[0;34m\u001B[0m\u001B[0m\n\u001B[1;32m     66\u001B[0m                     \u001B[0;32melse\u001B[0m\u001B[0;34m:\u001B[0m\u001B[0;34m\u001B[0m\u001B[0;34m\u001B[0m\u001B[0m\n\u001B[0;32m---> 67\u001B[0;31m                         \u001B[0;32mraise\u001B[0m \u001B[0mValueError\u001B[0m\u001B[0;34m(\u001B[0m\u001B[0;34m\"You might need to pass 'classes' argument for partial fitting\"\u001B[0m\u001B[0;34m,\u001B[0m \u001B[0me\u001B[0m\u001B[0;34m)\u001B[0m\u001B[0;34m\u001B[0m\u001B[0;34m\u001B[0m\u001B[0m\n\u001B[0m\u001B[1;32m     68\u001B[0m             \u001B[0;32melse\u001B[0m\u001B[0;34m:\u001B[0m\u001B[0;34m\u001B[0m\u001B[0;34m\u001B[0m\u001B[0m\n\u001B[1;32m     69\u001B[0m                 raise ValueError(f\"This of model does not support `partial_fit` {type(self.sk_model)} - \"\n",
      "\u001B[0;31mValueError\u001B[0m: (\"You might need to pass 'classes' argument for partial fitting\", ValueError('classes must be passed on the first call to partial_fit.'))"
     ]
    }
   ],
   "source": [
    "with df.model() as m:\n",
    "    from sklearn.neural_network import MLPClassifier\n",
    "\n",
    "    from pandas_ml_common import random_splitter\n",
    "    from pandas_ml_common.sampling.cross_validation import KEquallyWeightEvents\n",
    "    from pandas_ml_utils import SkModel, PostProcessedFeaturesAndLabels, ClassificationSummary, FittingParameter\n",
    "\n",
    "    fit = m.fit(\n",
    "        SkModel(\n",
    "            MLPClassifier(activation='tanh', hidden_layer_sizes=(60, 50), random_state=42, warm_start=True, max_iter=20),\n",
    "            PostProcessedFeaturesAndLabels(\n",
    "                features=\n",
    "                    [\n",
    "                        lambda df: df[\"Close\"].ta.macd().ML[['macd.*', 'signal.*']],\n",
    "                        lambda df: df.ta.adx().ML[['+DI', '-DM', '+DM']],\n",
    "                        lambda df: df[\"Close\"].ta.mom(),\n",
    "                        lambda df: df[\"Close\"].ta.apo(),\n",
    "                        lambda df: df.ta.atr(),\n",
    "                        lambda df: df[\"Close\"].ta.trix(),\n",
    "                    ],\n",
    "                feature_post_processor=lambda df: df.ta.rnn(280),\n",
    "                labels=[\n",
    "                    lambda df: df[\"Close\"].ta.future_bband_quantile(include_mean=False).ta.one_hot_encode_discrete()\n",
    "                ],\n",
    "                targets=[\n",
    "                    lambda df: df[\"Close\"].ta.bbands()[[\"lower\", \"upper\"]]\n",
    "                ]\n",
    "            ),\n",
    "            summary_provider=ClassificationSummary,\n",
    "        ),\n",
    "        FittingParameter(\n",
    "            splitter=random_splitter(test_size=0.4, seed=42),\n",
    "            cross_validation=KEquallyWeightEvents(n_splits=3),\n",
    "            epochs=1\n",
    "        )\n",
    "    )\n",
    "\n",
    "fit"
   ],
   "metadata": {
    "collapsed": false,
    "pycharm": {
     "name": "#%%\n"
    }
   }
  },
  {
   "cell_type": "code",
   "execution_count": null,
   "outputs": [],
   "source": [
    "fit.model._history"
   ],
   "metadata": {
    "collapsed": false,
    "pycharm": {
     "name": "#%%\n"
    }
   }
  }
 ],
 "metadata": {
  "kernelspec": {
   "name": "pandas_ml_quant",
   "language": "python",
   "display_name": "Pandas ML Quant"
  },
  "language_info": {
   "codemirror_mode": {
    "name": "ipython",
    "version": 2
   },
   "file_extension": ".py",
   "mimetype": "text/x-python",
   "name": "python",
   "nbconvert_exporter": "python",
   "pygments_lexer": "ipython2",
   "version": "2.7.6"
  }
 },
 "nbformat": 4,
 "nbformat_minor": 0
}