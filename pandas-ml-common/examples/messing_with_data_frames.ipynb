{
 "cells": [
  {
   "cell_type": "code",
   "execution_count": 1,
   "outputs": [],
   "source": [
    "%matplotlib inline\n",
    "%load_ext autoreload\n",
    "%autoreload 2"
   ],
   "metadata": {
    "collapsed": false,
    "pycharm": {
     "name": "#%%\n"
    }
   }
  },
  {
   "cell_type": "code",
   "execution_count": 2,
   "metadata": {
    "collapsed": true
   },
   "outputs": [
    {
     "data": {
      "text/plain": "          A                   B          \n          a         b         a         b\n0  0.549361  0.526465  0.549361  0.526465\n1  0.565551  0.760873  0.565551  0.760873\n2  0.059001  0.713662  0.059001  0.713662\n3  0.597629  0.429035  0.597629  0.429035\n4  0.623033  0.292672  0.623033  0.292672\n5  0.603750  0.926223  0.603750  0.926223\n6  0.540177  0.014351  0.540177  0.014351\n7  0.078614  0.214462  0.078614  0.214462\n8  0.382099  0.661797  0.382099  0.661797\n9  0.202106  0.871510  0.202106  0.871510",
      "text/html": "<div>\n<style scoped>\n    .dataframe tbody tr th:only-of-type {\n        vertical-align: middle;\n    }\n\n    .dataframe tbody tr th {\n        vertical-align: top;\n    }\n\n    .dataframe thead tr th {\n        text-align: left;\n    }\n</style>\n<table border=\"1\" class=\"dataframe\">\n  <thead>\n    <tr>\n      <th></th>\n      <th colspan=\"2\" halign=\"left\">A</th>\n      <th colspan=\"2\" halign=\"left\">B</th>\n    </tr>\n    <tr>\n      <th></th>\n      <th>a</th>\n      <th>b</th>\n      <th>a</th>\n      <th>b</th>\n    </tr>\n  </thead>\n  <tbody>\n    <tr>\n      <th>0</th>\n      <td>0.549361</td>\n      <td>0.526465</td>\n      <td>0.549361</td>\n      <td>0.526465</td>\n    </tr>\n    <tr>\n      <th>1</th>\n      <td>0.565551</td>\n      <td>0.760873</td>\n      <td>0.565551</td>\n      <td>0.760873</td>\n    </tr>\n    <tr>\n      <th>2</th>\n      <td>0.059001</td>\n      <td>0.713662</td>\n      <td>0.059001</td>\n      <td>0.713662</td>\n    </tr>\n    <tr>\n      <th>3</th>\n      <td>0.597629</td>\n      <td>0.429035</td>\n      <td>0.597629</td>\n      <td>0.429035</td>\n    </tr>\n    <tr>\n      <th>4</th>\n      <td>0.623033</td>\n      <td>0.292672</td>\n      <td>0.623033</td>\n      <td>0.292672</td>\n    </tr>\n    <tr>\n      <th>5</th>\n      <td>0.603750</td>\n      <td>0.926223</td>\n      <td>0.603750</td>\n      <td>0.926223</td>\n    </tr>\n    <tr>\n      <th>6</th>\n      <td>0.540177</td>\n      <td>0.014351</td>\n      <td>0.540177</td>\n      <td>0.014351</td>\n    </tr>\n    <tr>\n      <th>7</th>\n      <td>0.078614</td>\n      <td>0.214462</td>\n      <td>0.078614</td>\n      <td>0.214462</td>\n    </tr>\n    <tr>\n      <th>8</th>\n      <td>0.382099</td>\n      <td>0.661797</td>\n      <td>0.382099</td>\n      <td>0.661797</td>\n    </tr>\n    <tr>\n      <th>9</th>\n      <td>0.202106</td>\n      <td>0.871510</td>\n      <td>0.202106</td>\n      <td>0.871510</td>\n    </tr>\n  </tbody>\n</table>\n</div>"
     },
     "execution_count": 2,
     "metadata": {},
     "output_type": "execute_result"
    }
   ],
   "source": [
    "from pandas_ml_common import pd, np\n",
    "\n",
    "df1 = pd.DataFrame({\"a\": np.random.random(10), \"b\": np.random.random(10)})\n",
    "df1 = df1.inner_join(df1, prefix_left='A', prefix='B', force_multi_index=True)\n",
    "df1"
   ]
  },
  {
   "cell_type": "code",
   "execution_count": 3,
   "outputs": [
    {
     "name": "stdout",
     "output_type": "stream",
     "text": [
      "(5, 4) (5, 1) (5, 4) (5, 1)\n"
     ]
    }
   ],
   "source": [
    "from pandas_ml_common import Sampler, random_splitter\n",
    "\n",
    "df2 = pd.DataFrame({\"c\": np.random.random(10)})\n",
    "sampler = Sampler(df1, df2, splitter=random_splitter(0.5))\n",
    "\n",
    "for epoch, train, test in sampler.sample():\n",
    "    print(train[0].shape, train[1].shape, test[0].shape, test[1].shape)"
   ],
   "metadata": {
    "collapsed": false,
    "pycharm": {
     "name": "#%%\n"
    }
   }
  },
  {
   "cell_type": "code",
   "execution_count": 4,
   "outputs": [
    {
     "data": {
      "text/plain": "array([[1, 2],\n       [3, 4],\n       [5, 6]])"
     },
     "execution_count": 4,
     "metadata": {},
     "output_type": "execute_result"
    }
   ],
   "source": [
    "df3 = pd.DataFrame({\"a\": [[1, 2], [3, 4], [5, 6]]})\n",
    "df3._.values\n"
   ],
   "metadata": {
    "collapsed": false,
    "pycharm": {
     "name": "#%%\n"
    }
   }
  },
  {
   "cell_type": "code",
   "execution_count": 5,
   "outputs": [
    {
     "data": {
      "text/plain": "     a_22_a    b_21_b\n0  0.084412  0.619223",
      "text/html": "<div>\n<style scoped>\n    .dataframe tbody tr th:only-of-type {\n        vertical-align: middle;\n    }\n\n    .dataframe tbody tr th {\n        vertical-align: top;\n    }\n\n    .dataframe thead th {\n        text-align: right;\n    }\n</style>\n<table border=\"1\" class=\"dataframe\">\n  <thead>\n    <tr style=\"text-align: right;\">\n      <th></th>\n      <th>a_22_a</th>\n      <th>b_21_b</th>\n    </tr>\n  </thead>\n  <tbody>\n    <tr>\n      <th>0</th>\n      <td>0.084412</td>\n      <td>0.619223</td>\n    </tr>\n  </tbody>\n</table>\n</div>"
     },
     "execution_count": 5,
     "metadata": {},
     "output_type": "execute_result"
    }
   ],
   "source": [
    "df4 = pd.DataFrame({\"a_22_a\": np.random.random(1), \"b_21_b\": np.random.random(1)})\n",
    "df4._[r'.*\\d+_.']"
   ],
   "metadata": {
    "collapsed": false,
    "pycharm": {
     "name": "#%%\n"
    }
   }
  },
  {
   "cell_type": "code",
   "execution_count": 6,
   "outputs": [
    {
     "data": {
      "text/plain": "22"
     },
     "execution_count": 6,
     "metadata": {},
     "output_type": "execute_result"
    }
   ],
   "source": [
    "from pandas_ml_common import call_callable_dynamic_args\n",
    "\n",
    "def adder(a, b):\n",
    "    return a + b\n",
    "\n",
    "call_callable_dynamic_args(adder, a=12, b=10, c=None)"
   ],
   "metadata": {
    "collapsed": false,
    "pycharm": {
     "name": "#%%\n"
    }
   }
  },
  {
   "cell_type": "code",
   "execution_count": 7,
   "outputs": [
    {
     "data": {
      "text/plain": "array([[nan, nan, nan],\n       [nan, nan, nan],\n       [nan, nan, nan]])"
     },
     "execution_count": 7,
     "metadata": {},
     "output_type": "execute_result"
    }
   ],
   "source": [
    "from pandas_ml_common import np_nans\n",
    "\n",
    "np_nans((3, 3))\n"
   ],
   "metadata": {
    "collapsed": false,
    "pycharm": {
     "name": "#%%\n"
    }
   }
  },
  {
   "cell_type": "code",
   "execution_count": 8,
   "outputs": [
    {
     "name": "stdout",
     "output_type": "stream",
     "text": [
      "[0.37454012 0.95071431]\n"
     ]
    },
    {
     "data": {
      "text/plain": "array([0.30881204, 0.1960163 ])"
     },
     "execution_count": 8,
     "metadata": {},
     "output_type": "execute_result"
    }
   ],
   "source": [
    "from pandas_ml_common import temp_seed\n",
    "\n",
    "with temp_seed(42):\n",
    "    print(np.random.random(2))\n",
    "\n",
    "np.random.random(2)\n"
   ],
   "metadata": {
    "collapsed": false,
    "pycharm": {
     "name": "#%%\n"
    }
   }
  },
  {
   "cell_type": "code",
   "execution_count": 9,
   "outputs": [
    {
     "data": {
      "text/plain": "array([1, 2, 3])"
     },
     "execution_count": 9,
     "metadata": {},
     "output_type": "execute_result"
    }
   ],
   "source": [
    "from pandas_ml_common import serializeb, deserializeb\n",
    "\n",
    "deserializeb(serializeb(np.array([1, 2, 3])))\n"
   ],
   "metadata": {
    "collapsed": false,
    "pycharm": {
     "name": "#%%\n"
    }
   }
  },
  {
   "cell_type": "code",
   "execution_count": 10,
   "outputs": [
    {
     "data": {
      "text/plain": "array([ 5.,  4.,  3.,  2.,  1.,  0., -1., -2., -3., -4.])"
     },
     "execution_count": 10,
     "metadata": {},
     "output_type": "execute_result"
    }
   ],
   "source": [
    "from pandas_ml_common import ReScaler\n",
    "\n",
    "x = np.arange(0, 1, .1)\n",
    "rescaler = ReScaler((0, 1), (5, -5))\n",
    "\n",
    "rescaler(x)"
   ],
   "metadata": {
    "collapsed": false,
    "pycharm": {
     "name": "#%%\n"
    }
   }
  }
 ],
 "metadata": {
  "kernelspec": {
   "display_name": "Python 3",
   "language": "python",
   "name": "python3"
  },
  "language_info": {
   "codemirror_mode": {
    "name": "ipython",
    "version": 2
   },
   "file_extension": ".py",
   "mimetype": "text/x-python",
   "name": "python",
   "nbconvert_exporter": "python",
   "pygments_lexer": "ipython2",
   "version": "2.7.6"
  }
 },
 "nbformat": 4,
 "nbformat_minor": 0
}