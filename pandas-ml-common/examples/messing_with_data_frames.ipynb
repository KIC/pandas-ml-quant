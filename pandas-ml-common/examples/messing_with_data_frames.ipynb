{
 "cells": [
  {
   "cell_type": "code",
   "execution_count": 1,
   "outputs": [],
   "source": [
    "%load_ext autoreload\n",
    "%autoreload 2"
   ],
   "metadata": {
    "collapsed": false,
    "pycharm": {
     "name": "#%%\n"
    }
   }
  },
  {
   "cell_type": "code",
   "execution_count": 2,
   "metadata": {
    "collapsed": true
   },
   "outputs": [
    {
     "data": {
      "text/plain": "          A                   B          \n          a         b         a         b\n0  0.093680  0.567099  0.093680  0.567099\n1  0.446229  0.293130  0.446229  0.293130\n2  0.025688  0.545552  0.025688  0.545552\n3  0.668815  0.310784  0.668815  0.310784\n4  0.530610  0.879886  0.530610  0.879886\n5  0.293507  0.593842  0.293507  0.593842\n6  0.123987  0.299180  0.123987  0.299180\n7  0.123895  0.348180  0.123895  0.348180\n8  0.230713  0.052849  0.230713  0.052849\n9  0.842127  0.464528  0.842127  0.464528",
      "text/html": "<div>\n<style scoped>\n    .dataframe tbody tr th:only-of-type {\n        vertical-align: middle;\n    }\n\n    .dataframe tbody tr th {\n        vertical-align: top;\n    }\n\n    .dataframe thead tr th {\n        text-align: left;\n    }\n</style>\n<table border=\"1\" class=\"dataframe\">\n  <thead>\n    <tr>\n      <th></th>\n      <th colspan=\"2\" halign=\"left\">A</th>\n      <th colspan=\"2\" halign=\"left\">B</th>\n    </tr>\n    <tr>\n      <th></th>\n      <th>a</th>\n      <th>b</th>\n      <th>a</th>\n      <th>b</th>\n    </tr>\n  </thead>\n  <tbody>\n    <tr>\n      <th>0</th>\n      <td>0.093680</td>\n      <td>0.567099</td>\n      <td>0.093680</td>\n      <td>0.567099</td>\n    </tr>\n    <tr>\n      <th>1</th>\n      <td>0.446229</td>\n      <td>0.293130</td>\n      <td>0.446229</td>\n      <td>0.293130</td>\n    </tr>\n    <tr>\n      <th>2</th>\n      <td>0.025688</td>\n      <td>0.545552</td>\n      <td>0.025688</td>\n      <td>0.545552</td>\n    </tr>\n    <tr>\n      <th>3</th>\n      <td>0.668815</td>\n      <td>0.310784</td>\n      <td>0.668815</td>\n      <td>0.310784</td>\n    </tr>\n    <tr>\n      <th>4</th>\n      <td>0.530610</td>\n      <td>0.879886</td>\n      <td>0.530610</td>\n      <td>0.879886</td>\n    </tr>\n    <tr>\n      <th>5</th>\n      <td>0.293507</td>\n      <td>0.593842</td>\n      <td>0.293507</td>\n      <td>0.593842</td>\n    </tr>\n    <tr>\n      <th>6</th>\n      <td>0.123987</td>\n      <td>0.299180</td>\n      <td>0.123987</td>\n      <td>0.299180</td>\n    </tr>\n    <tr>\n      <th>7</th>\n      <td>0.123895</td>\n      <td>0.348180</td>\n      <td>0.123895</td>\n      <td>0.348180</td>\n    </tr>\n    <tr>\n      <th>8</th>\n      <td>0.230713</td>\n      <td>0.052849</td>\n      <td>0.230713</td>\n      <td>0.052849</td>\n    </tr>\n    <tr>\n      <th>9</th>\n      <td>0.842127</td>\n      <td>0.464528</td>\n      <td>0.842127</td>\n      <td>0.464528</td>\n    </tr>\n  </tbody>\n</table>\n</div>"
     },
     "execution_count": 2,
     "metadata": {},
     "output_type": "execute_result"
    }
   ],
   "source": [
    "from pandas_ml_common import pd, np\n",
    "\n",
    "df1 = pd.DataFrame({\"a\": np.random.random(10), \"b\": np.random.random(10)})\n",
    "df1 = df1.inner_join(df1, prefix_left='A', prefix='B', force_multi_index=True)\n",
    "df1"
   ]
  },
  {
   "cell_type": "code",
   "execution_count": 3,
   "outputs": [
    {
     "name": "stdout",
     "output_type": "stream",
     "text": [
      "0\n",
      "0\n",
      "0\n",
      "          A                   B          \n",
      "          a         b         a         b\n",
      "2  0.025688  0.545552  0.025688  0.545552\n",
      "9  0.842127  0.464528  0.842127  0.464528\n",
      "4  0.530610  0.879886  0.530610  0.879886\n",
      "3  0.668815  0.310784  0.668815  0.310784\n",
      "6  0.123987  0.299180  0.123987  0.299180\n",
      "          c\n",
      "2  0.993148\n",
      "9  0.744156\n",
      "4  0.291080\n",
      "3  0.378954\n",
      "6  0.203726\n",
      "None\n"
     ]
    }
   ],
   "source": [
    "from pandas_ml_common import Sampler, XYWeight, random_splitter\n",
    "\n",
    "df2 = pd.DataFrame({\"c\": np.random.random(10)})\n",
    "sampler = Sampler(XYWeight(df1, df2), splitter=random_splitter(0.5))\n",
    "\n",
    "for batches in sampler.sample_for_training():\n",
    "    for batch in batches:\n",
    "        print(batch)"
   ],
   "metadata": {
    "collapsed": false,
    "pycharm": {
     "name": "#%%\n"
    }
   }
  },
  {
   "cell_type": "code",
   "execution_count": 4,
   "outputs": [
    {
     "data": {
      "text/plain": "array([[1, 2],\n       [3, 4],\n       [5, 6]])"
     },
     "execution_count": 4,
     "metadata": {},
     "output_type": "execute_result"
    }
   ],
   "source": [
    "df3 = pd.DataFrame({\"a\": [[1, 2], [3, 4], [5, 6]]})\n",
    "df3.ML.values\n"
   ],
   "metadata": {
    "collapsed": false,
    "pycharm": {
     "name": "#%%\n"
    }
   }
  },
  {
   "cell_type": "code",
   "execution_count": 5,
   "outputs": [
    {
     "data": {
      "text/plain": "     a_22_a    b_21_b\n0  0.567871  0.259282",
      "text/html": "<div>\n<style scoped>\n    .dataframe tbody tr th:only-of-type {\n        vertical-align: middle;\n    }\n\n    .dataframe tbody tr th {\n        vertical-align: top;\n    }\n\n    .dataframe thead th {\n        text-align: right;\n    }\n</style>\n<table border=\"1\" class=\"dataframe\">\n  <thead>\n    <tr style=\"text-align: right;\">\n      <th></th>\n      <th>a_22_a</th>\n      <th>b_21_b</th>\n    </tr>\n  </thead>\n  <tbody>\n    <tr>\n      <th>0</th>\n      <td>0.567871</td>\n      <td>0.259282</td>\n    </tr>\n  </tbody>\n</table>\n</div>"
     },
     "execution_count": 5,
     "metadata": {},
     "output_type": "execute_result"
    }
   ],
   "source": [
    "df4 = pd.DataFrame({\"a_22_a\": np.random.random(1), \"b_21_b\": np.random.random(1)})\n",
    "df4.ML[r'.*\\d+_.']"
   ],
   "metadata": {
    "collapsed": false,
    "pycharm": {
     "name": "#%%\n"
    }
   }
  },
  {
   "cell_type": "code",
   "execution_count": 6,
   "outputs": [
    {
     "data": {
      "text/plain": "22"
     },
     "execution_count": 6,
     "metadata": {},
     "output_type": "execute_result"
    }
   ],
   "source": [
    "from pandas_ml_common import call_callable_dynamic_args\n",
    "\n",
    "def adder(a, b):\n",
    "    return a + b\n",
    "\n",
    "call_callable_dynamic_args(adder, a=12, b=10, c=None)"
   ],
   "metadata": {
    "collapsed": false,
    "pycharm": {
     "name": "#%%\n"
    }
   }
  },
  {
   "cell_type": "code",
   "execution_count": 7,
   "outputs": [
    {
     "data": {
      "text/plain": "array([[nan, nan, nan],\n       [nan, nan, nan],\n       [nan, nan, nan]])"
     },
     "execution_count": 7,
     "metadata": {},
     "output_type": "execute_result"
    }
   ],
   "source": [
    "from pandas_ml_common import np_nans\n",
    "\n",
    "np_nans((3, 3))\n"
   ],
   "metadata": {
    "collapsed": false,
    "pycharm": {
     "name": "#%%\n"
    }
   }
  },
  {
   "cell_type": "code",
   "execution_count": 8,
   "outputs": [
    {
     "name": "stdout",
     "output_type": "stream",
     "text": [
      "[0.37454012 0.95071431]\n"
     ]
    },
    {
     "data": {
      "text/plain": "array([0.36256627, 0.55505542])"
     },
     "execution_count": 8,
     "metadata": {},
     "output_type": "execute_result"
    }
   ],
   "source": [
    "from pandas_ml_common import temp_seed\n",
    "\n",
    "with temp_seed(42):\n",
    "    print(np.random.random(2))\n",
    "\n",
    "np.random.random(2)\n"
   ],
   "metadata": {
    "collapsed": false,
    "pycharm": {
     "name": "#%%\n"
    }
   }
  },
  {
   "cell_type": "code",
   "execution_count": 9,
   "outputs": [
    {
     "data": {
      "text/plain": "array([1, 2, 3])"
     },
     "execution_count": 9,
     "metadata": {},
     "output_type": "execute_result"
    }
   ],
   "source": [
    "from pandas_ml_common import serializeb, deserializeb\n",
    "\n",
    "deserializeb(serializeb(np.array([1, 2, 3])))\n"
   ],
   "metadata": {
    "collapsed": false,
    "pycharm": {
     "name": "#%%\n"
    }
   }
  },
  {
   "cell_type": "code",
   "execution_count": 10,
   "outputs": [
    {
     "data": {
      "text/plain": "array([ 5.,  4.,  3.,  2.,  1.,  0., -1., -2., -3., -4.])"
     },
     "execution_count": 10,
     "metadata": {},
     "output_type": "execute_result"
    }
   ],
   "source": [
    "from pandas_ml_common import ReScaler, XYWeight\n",
    "\n",
    "x = np.arange(0, 1, .1)\n",
    "rescaler = ReScaler((0, 1), (5, -5))\n",
    "\n",
    "rescaler(x)"
   ],
   "metadata": {
    "collapsed": false,
    "pycharm": {
     "name": "#%%\n"
    }
   }
  }
 ],
 "metadata": {
  "kernelspec": {
   "display_name": "Python 3",
   "language": "python",
   "name": "python3"
  },
  "language_info": {
   "codemirror_mode": {
    "name": "ipython",
    "version": 2
   },
   "file_extension": ".py",
   "mimetype": "text/x-python",
   "name": "python",
   "nbconvert_exporter": "python",
   "pygments_lexer": "ipython2",
   "version": "2.7.6"
  }
 },
 "nbformat": 4,
 "nbformat_minor": 0
}