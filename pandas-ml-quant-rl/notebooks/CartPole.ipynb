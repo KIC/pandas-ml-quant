{
 "cells": [
  {
   "cell_type": "markdown",
   "metadata": {},
   "source": [
    "## Important \n",
    "you need to run the notebook within xvfb (x virtual frame buffer)\n",
    "`xvfb-run -s \"-screen 0 1400x900x24\" jupyter notebook`"
   ]
  },
  {
   "cell_type": "code",
   "execution_count": 1,
   "metadata": {},
   "outputs": [
    {
     "name": "stdout",
     "output_type": "stream",
     "text": [
      "adding module /home/kic/sources/private/projects/pandas-quant/pandas-ml-common\n",
      "adding module /home/kic/sources/private/projects/pandas-quant/pandas-ml-quant\n",
      "adding module /home/kic/sources/private/projects/pandas-quant/pandas-ml-utils\n",
      "adding module /home/kic/sources/private/projects/pandas-quant/pandas-ml-1ntegration-test\n",
      "adding module /home/kic/sources/private/projects/pandas-quant/pandas-ml-quant-data-provider\n",
      "adding module /home/kic/sources/private/projects/pandas-quant/pandas-ml-quant-rl\n"
     ]
    }
   ],
   "source": [
    "%matplotlib inline\n",
    "%load_ext autoreload\n",
    "%autoreload 2\n",
    "\n",
    "import matplotlib.pyplot as plt\n",
    "from IPython.display import IFrame\n",
    "from include_pycharm_modules import import_source_folders\n",
    "import_source_folders(\"/home/kic/sources/private/projects/pandas-quant\")"
   ]
  },
  {
   "cell_type": "code",
   "execution_count": 2,
   "metadata": {},
   "outputs": [
    {
     "data": {
      "image/png": "[encoded data removed]",
      "text/plain": [
       "<Figure size 432x288 with 1 Axes>"
      ]
     },
     "metadata": {
      "needs_background": "light"
     },
     "output_type": "display_data"
    },
    {
     "data": {
      "text/plain": [
       "((array([ 0.03093441,  0.19150289,  0.005833  , -0.24792211]),\n",
       "  array([], dtype=float64)),\n",
       " 1.0,\n",
       " False,\n",
       " {})"
      ]
     },
     "execution_count": 2,
     "metadata": {},
     "output_type": "execute_result"
    }
   ],
   "source": [
    "from pandas_ml_quant_rl.model.environments import CartPoleWrappedEnv\n",
    "import numpy as np\n",
    "\n",
    "env = CartPoleWrappedEnv(auto_render_after_steps=100)\n",
    "\n",
    "s = env.reset()\n",
    "env.render()\n",
    "env.step(np.random.choice(env.action_space.n))"
   ]
  },
  {
   "cell_type": "code",
   "execution_count": 3,
   "metadata": {},
   "outputs": [
    {
     "data": {
      "image/png": "[encoded data removed]",
      "text/plain": [
       "<Figure size 432x288 with 1 Axes>"
      ]
     },
     "metadata": {
      "needs_background": "light"
     },
     "output_type": "display_data"
    },
    {
     "name": "stdout",
     "output_type": "stream",
     "text": [
      "Solved 102.44968986406519 in 548 episodes\n"
     ]
    },
    {
     "data": {
      "text/plain": [
       "<pandas_ml_quant_rl.model.agent.reinforce_agent.ReinforceAgent at 0x7f18edec75e0>"
      ]
     },
     "execution_count": 3,
     "metadata": {},
     "output_type": "execute_result"
    }
   ],
   "source": [
    "import torch.nn as nn\n",
    "from pandas_ml_quant_rl.model.agent import PolicyNetwork\n",
    "from pandas_ml_quant_rl.model.agent import ReinforceAgent\n",
    "\n",
    "class Net(PolicyNetwork):\n",
    "    \n",
    "    def __init__(self, input_size, n_actions):\n",
    "        super().__init__()\n",
    "        self.net = nn.Sequential(\n",
    "            nn.Linear(input_size, 16),\n",
    "            nn.ReLU(),\n",
    "            nn.Linear(16, n_actions),\n",
    "            nn.Softmax()\n",
    "        )\n",
    "        \n",
    "    def estimate_action(self, state, state_2):\n",
    "        return self.net(state)\n",
    "\n",
    "\n",
    "\n",
    "agent = ReinforceAgent(\n",
    "    Net(env.observation_space.shape[0], 2).cpu(),\n",
    "    exit_criteria=lambda reward, cnt: reward > 100 or cnt > 1500,\n",
    "    batch_size=10,\n",
    "    gamma=0.99\n",
    ")\n",
    "\n",
    "agent.fit(env)    "
   ]
  },
  {
   "cell_type": "code",
   "execution_count": 4,
   "metadata": {
    "scrolled": false
   },
   "outputs": [
    {
     "data": {
      "text/html": [
       "\n",
       "        <iframe\n",
       "            width=\"100%\"\n",
       "            height=\"800px\"\n",
       "            src=\"http://localhost:6006/\"\n",
       "            frameborder=\"0\"\n",
       "            allowfullscreen\n",
       "        ></iframe>\n",
       "        "
      ],
      "text/plain": [
       "<IPython.lib.display.IFrame at 0x7f19541d7310>"
      ]
     },
     "execution_count": 4,
     "metadata": {},
     "output_type": "execute_result"
    }
   ],
   "source": [
    "IFrame('http://localhost:6006/', width='100%', height='800px')"
   ]
  },
  {
   "cell_type": "code",
   "execution_count": 18,
   "metadata": {},
   "outputs": [
    {
     "data": {
      "image/png": "[encoded data removed]",
      "text/plain": [
       "<Figure size 432x288 with 1 Axes>"
      ]
     },
     "metadata": {
      "needs_background": "light"
     },
     "output_type": "display_data"
    },
    {
     "name": "stdout",
     "output_type": "stream",
     "text": [
      "Solved 104.49276605728097 in 88 episodes\n"
     ]
    },
    {
     "data": {
      "text/plain": [
       "<pandas_ml_quant_rl.model.agent.dqn_agent.DQNAgent at 0x7f189c0a46a0>"
      ]
     },
     "execution_count": 18,
     "metadata": {},
     "output_type": "execute_result"
    }
   ],
   "source": [
    "import torch.nn as nn\n",
    "from torch.optim import RMSprop\n",
    "from pandas_ml_quant_rl.model.agent import PolicyNetwork\n",
    "from pandas_ml_quant_rl.model.agent import DQNAgent\n",
    "\n",
    "class Net(PolicyNetwork):\n",
    "    \n",
    "    def __init__(self, input_size, n_actions):\n",
    "        super().__init__()\n",
    "        self.net = nn.Sequential(\n",
    "            nn.Linear(input_size, 16),\n",
    "            nn.ReLU(),\n",
    "            nn.Linear(16, n_actions),\n",
    "        )\n",
    "        \n",
    "    def estimate_action(self, state, state_2):\n",
    "        return self.net(state)\n",
    "\n",
    "\n",
    "\n",
    "agent = DQNAgent(\n",
    "    lambda: Net(env.observation_space.shape[0], 2).cpu(),\n",
    "    exit_criteria=lambda reward, cnt: reward > 100 or cnt > 500,\n",
    "    optimizer=lambda p: RMSprop(p),\n",
    "    batch_size=128,\n",
    "    gamma=0.99,\n",
    "    epsilon=1.0,\n",
    "    epsilon_decay = 150\n",
    ")\n",
    "\n",
    "agent.fit(env)"
   ]
  },
  {
   "cell_type": "code",
   "execution_count": 17,
   "metadata": {},
   "outputs": [
    {
     "data": {
      "text/html": [
       "\n",
       "        <iframe\n",
       "            width=\"100%\"\n",
       "            height=\"800px\"\n",
       "            src=\"http://localhost:6006/\"\n",
       "            frameborder=\"0\"\n",
       "            allowfullscreen\n",
       "        ></iframe>\n",
       "        "
      ],
      "text/plain": [
       "<IPython.lib.display.IFrame at 0x7f18ec455880>"
      ]
     },
     "execution_count": 17,
     "metadata": {},
     "output_type": "execute_result"
    }
   ],
   "source": [
    "IFrame('http://localhost:6006/', width='100%', height='800px')"
   ]
  },
  {
   "cell_type": "code",
   "execution_count": 21,
   "metadata": {},
   "outputs": [
    {
     "data": {
      "image/png": "[encoded data removed]",
      "text/plain": [
       "<Figure size 432x288 with 1 Axes>"
      ]
     },
     "metadata": {
      "needs_background": "light"
     },
     "output_type": "display_data"
    },
    {
     "name": "stdout",
     "output_type": "stream",
     "text": [
      "Solved 100.61302363753167 in 66 episodes\n"
     ]
    },
    {
     "data": {
      "text/plain": [
       "<pandas_ml_quant_rl.model.agent.dqn_agent.DQNAgent at 0x7f189c2467f0>"
      ]
     },
     "execution_count": 21,
     "metadata": {},
     "output_type": "execute_result"
    }
   ],
   "source": [
    "import torch.nn as nn\n",
    "from torch.optim import RMSprop\n",
    "from pandas_ml_quant_rl.model.agent import PolicyNetwork\n",
    "from pandas_ml_quant_rl.model.agent import DQNAgent\n",
    "\n",
    "# Now with a Dueling Network !! \n",
    "class Net(PolicyNetwork):\n",
    "    \n",
    "    def __init__(self, input_size, n_actions):\n",
    "        super().__init__()\n",
    "        self.net = nn.Sequential(\n",
    "            nn.Linear(input_size, 16),\n",
    "            nn.ReLU(),\n",
    "            nn.Linear(16, 8),\n",
    "        )\n",
    "        \n",
    "        self.fc_adv = nn.Sequential( \n",
    "            nn.Linear(8, 4), \n",
    "            nn.ReLU(), \n",
    "            nn.Linear(4, n_actions) \n",
    "        ) \n",
    "        self.fc_val = nn.Sequential( \n",
    "            nn.Linear(8, 4), \n",
    "            nn.ReLU(), \n",
    "            nn.Linear(4, 1) \n",
    "        ) \n",
    "        \n",
    "    def estimate_action(self, state, state_2):\n",
    "        x = self.net(state)\n",
    "        val = self.fc_val(x) \n",
    "        adv = self.fc_adv(x) \n",
    "        return val + adv - adv.mean()\n",
    "\n",
    "\n",
    "\n",
    "agent = DQNAgent(\n",
    "    lambda: Net(env.observation_space.shape[0], 2).cpu(),\n",
    "    exit_criteria=lambda reward, cnt: reward > 100 or cnt > 500,\n",
    "    optimizer=lambda p: RMSprop(p),\n",
    "    batch_size=128,\n",
    "    gamma=0.99,\n",
    "    epsilon=1.0,\n",
    "    epsilon_decay = 150\n",
    ")\n",
    "\n",
    "agent.fit(env)"
   ]
  },
  {
   "cell_type": "code",
   "execution_count": null,
   "metadata": {},
   "outputs": [],
   "source": []
  }
 ],
 "metadata": {
  "kernelspec": {
   "display_name": "Python 3",
   "language": "python",
   "name": "python3"
  },
  "language_info": {
   "codemirror_mode": {
    "name": "ipython",
    "version": 3
   },
   "file_extension": ".py",
   "mimetype": "text/x-python",
   "name": "python",
   "nbconvert_exporter": "python",
   "pygments_lexer": "ipython3",
   "version": "3.8.2"
  }
 },
 "nbformat": 4,
 "nbformat_minor": 4
}
