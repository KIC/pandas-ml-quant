{
 "cells": [
  {
   "cell_type": "markdown",
   "metadata": {},
   "source": [
    "https://towardsdatascience.com/learning-reinforcement-learning-reinforce-with-pytorch-5e8ad7fc7da0"
   ]
  },
  {
   "cell_type": "code",
   "execution_count": 13,
   "metadata": {},
   "outputs": [],
   "source": [
    "import numpy as np\n",
    "import matplotlib.pyplot as plt\n",
    "import gym\n",
    "import torch\n",
    "from torch import nn\n",
    "from torch import optim\n",
    "import matplotlib.pyplot as plt"
   ]
  },
  {
   "cell_type": "markdown",
   "metadata": {},
   "source": [
    "With our packages imported, we’re going to set up a simple class called policy_estimator that will contain our neural network. It’s going to have two hidden layers with a ReLU activation function and softmax output. We’ll also give it a method called predict that enables us to do a forward pass through the network."
   ]
  },
  {
   "cell_type": "code",
   "execution_count": 2,
   "metadata": {},
   "outputs": [],
   "source": [
    "class policy_estimator():\n",
    "    def __init__(self, env):\n",
    "        self.n_inputs = env.observation_space.shape[0]\n",
    "        self.n_outputs = env.action_space.n\n",
    "        \n",
    "        # Define network\n",
    "        self.network = nn.Sequential(\n",
    "            nn.Linear(self.n_inputs, 16), \n",
    "            nn.ReLU(), \n",
    "            nn.Linear(16, self.n_outputs),\n",
    "            nn.Softmax(dim=-1))\n",
    "    \n",
    "    def predict(self, state):\n",
    "        action_probs = self.network(torch.FloatTensor(state))\n",
    "        return action_probs"
   ]
  },
  {
   "cell_type": "markdown",
   "metadata": {},
   "source": [
    "One thing I’ve done here that’s a bit non-standard is subtract the mean of the rewards at the end. This helps to stabilize the learning, particularly in cases such as this one where all the rewards are positive because the gradients change more with negative or below-average rewards than they would if the rewards weren’t normalized like this."
   ]
  },
  {
   "cell_type": "code",
   "execution_count": 3,
   "metadata": {},
   "outputs": [],
   "source": [
    "def discount_rewards(rewards, gamma=0.99):\n",
    "    r = np.array([gamma**i * rewards[i] \n",
    "        for i in range(len(rewards))])\n",
    "    # Reverse the array direction for cumsum and then\n",
    "    # revert back to the original order\n",
    "    r = r[::-1].cumsum()[::-1]\n",
    "    return r - r.mean()\n",
    "\n"
   ]
  },
  {
   "cell_type": "markdown",
   "metadata": {},
   "source": [
    "Now for the REINFORCE algorithm itself. A few points on the implementation, always be certain to ensure your outputs from PyTorch are converted back to NumPy arrays before you pass the values to env.step() or functions like np.random.choice() to avoid errors. Also, we use torch.gather() to separate the actual actions taken from the action probabilities to ensure we’re calculating the loss function properly as discussed above. Finally, you can change the ending so that the algorithm stops running once the environment is “solved” instead of running for a preset number of steps (CartPole is solved after an average score of 195 or more for 100 consecutive episodes).\n",
    "\n",
    "The DQN gives us estimates of the discounted future rewards of the state and we make our selection based on these values (typically taking the maximum value according to some ϵ-greedy rule). The policy gradient, on the other hand, gives us probabilities of our actions. The way we make our selection, in this case, is by choosing action 0 x% of the time and action 1 y% of the time. These probabilities will change as the network gains more experience."
   ]
  },
  {
   "cell_type": "code",
   "execution_count": 8,
   "metadata": {},
   "outputs": [],
   "source": [
    "def reinforce(env, policy_estimator, num_episodes=2000, batch_size=10, gamma=0.99):\n",
    "    # Set up lists to hold results\n",
    "    total_rewards = []\n",
    "    batch_rewards = []\n",
    "    batch_actions = []\n",
    "    batch_states = []\n",
    "    batch_counter = 1\n",
    "    \n",
    "    # Define optimizer\n",
    "    optimizer = optim.Adam(policy_estimator.network.parameters(), lr=0.01)\n",
    "    \n",
    "    # Setup discrete Action space\n",
    "    action_space = np.arange(env.action_space.n)\n",
    "    ep = 0\n",
    "    \n",
    "    while ep < num_episodes:\n",
    "        # get the initial observed state (start a new game)\n",
    "        s_0 = env.reset()\n",
    "        states = []\n",
    "        rewards = []\n",
    "        actions = []\n",
    "        done = False\n",
    "        \n",
    "        while done == False:\n",
    "            # Get action probabilities and convert to numpy array\n",
    "            action_probs = policy_estimator.predict(s_0).detach().numpy()\n",
    "            # chiise action based on probabilities\n",
    "            action = np.random.choice(action_space, p=action_probs)\n",
    "            # execute action in the environment\n",
    "            s_1, r, done, _ = env.step(action)\n",
    "\n",
    "            # keep the trajectory of state, reward and actions\n",
    "            states.append(s_0)\n",
    "            rewards.append(r)\n",
    "            actions.append(action)\n",
    "            \n",
    "            # update the last state to the current state after we executed the action\n",
    "            s_0 = s_1\n",
    "            \n",
    "            # If done, batch data\n",
    "            if done:\n",
    "                batch_rewards.extend(discount_rewards(rewards, gamma))\n",
    "                batch_states.extend(states)\n",
    "                batch_actions.extend(actions)\n",
    "                batch_counter += 1\n",
    "                total_rewards.append(sum(rewards))\n",
    "                \n",
    "                # If batch is complete, update network\n",
    "                if batch_counter == batch_size:\n",
    "                    optimizer.zero_grad()\n",
    "                    state_tensor = torch.FloatTensor(batch_states)\n",
    "                    reward_tensor = torch.FloatTensor(\n",
    "                        batch_rewards)\n",
    "                    # Actions are used as indices, must be \n",
    "                    # LongTensor\n",
    "                    action_tensor = torch.LongTensor(\n",
    "                       batch_actions)\n",
    "                    \n",
    "                    # Calculate loss\n",
    "                    logprob = torch.log(policy_estimator.predict(state_tensor))\n",
    "                    selected_logprobs = reward_tensor * torch.gather(logprob, 1, action_tensor.unsqueeze(1)).squeeze()\n",
    "                    loss = -selected_logprobs.mean()\n",
    "                    \n",
    "                    # Calculate gradients\n",
    "                    loss.backward()\n",
    "                    # Apply gradients\n",
    "                    optimizer.step()\n",
    "                    \n",
    "                    batch_rewards = []\n",
    "                    batch_actions = []\n",
    "                    batch_states = []\n",
    "                    batch_counter = 1\n",
    "                    \n",
    "                avg_rewards = np.mean(total_rewards[-100:])\n",
    "                # Print running average\n",
    "                print(f\"Ep: {ep + 1} Average of last 100: {avg_rewards:.2f}\")\n",
    "                ep += 1\n",
    "                \n",
    "    return total_rewards"
   ]
  },
  {
   "cell_type": "markdown",
   "metadata": {},
   "source": [
    "To run this, we just need a few lines of code to put it all together."
   ]
  },
  {
   "cell_type": "code",
   "execution_count": 9,
   "metadata": {},
   "outputs": [
    {
     "name": "stdout",
     "output_type": "stream",
     "text": [
      "Ep: {} Average of last 100:2000.00"
     ]
    }
   ],
   "source": [
    "env = gym.make('CartPole-v0')\n",
    "policy_est = policy_estimator(env)\n",
    "rewards = reinforce(env, policy_est)"
   ]
  },
  {
   "cell_type": "code",
   "execution_count": 14,
   "metadata": {},
   "outputs": [
    {
     "data": {
      "text/plain": [
       "[<matplotlib.lines.Line2D at 0x7fb8914380a0>]"
      ]
     },
     "execution_count": 14,
     "metadata": {},
     "output_type": "execute_result"
    },
    {
     "data": {
      "image/png": "[encoded data removed]",
      "text/plain": [
       "<Figure size 432x288 with 1 Axes>"
      ]
     },
     "metadata": {
      "needs_background": "light"
     },
     "output_type": "display_data"
    }
   ],
   "source": [
    "plt.plot(rewards)"
   ]
  },
  {
   "cell_type": "code",
   "execution_count": 20,
   "metadata": {},
   "outputs": [
    {
     "data": {
      "text/plain": [
       "{'Value': [{'FinanceId': '1234',\n",
       "   'Stage': 'TEST',\n",
       "   'StackTrace': None,\n",
       "   'Message': 'something bad happened',\n",
       "   'Data': {},\n",
       "   'InnerException': None,\n",
       "   'HelpLink': None,\n",
       "   'Source': None,\n",
       "   'HResult': -2146233088}],\n",
       " 'Formatters': [],\n",
       " 'ContentTypes': [],\n",
       " 'DeclaredType': None,\n",
       " 'StatusCode': 400}"
      ]
     },
     "execution_count": 20,
     "metadata": {},
     "output_type": "execute_result"
    }
   ],
   "source": [
    "import json\n",
    "\n",
    "json.loads('''\n",
    "{\"Value\":[{\"FinanceId\":\"1234\",\"Stage\":\"TEST\",\"StackTrace\":null,\"Message\":\"something bad happened\",\"Data\":{},\"InnerException\":null,\"HelpLink\":null,\"Source\":null,\"HResult\":-2146233088}],\"Formatters\":[],\"ContentTypes\":[],\"DeclaredType\":null,\"StatusCode\":400}\n",
    "''')"
   ]
  }
 ],
 "metadata": {
  "kernelspec": {
   "display_name": "Python 3",
   "language": "python",
   "name": "python3"
  },
  "language_info": {
   "codemirror_mode": {
    "name": "ipython",
    "version": 3
   },
   "file_extension": ".py",
   "mimetype": "text/x-python",
   "name": "python",
   "nbconvert_exporter": "python",
   "pygments_lexer": "ipython3",
   "version": "3.8.2"
  }
 },
 "nbformat": 4,
 "nbformat_minor": 4
}
